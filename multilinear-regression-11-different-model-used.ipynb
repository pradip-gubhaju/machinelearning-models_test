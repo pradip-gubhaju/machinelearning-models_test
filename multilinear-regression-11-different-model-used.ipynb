{
 "cells": [
  {
   "cell_type": "markdown",
   "id": "eabb0f80",
   "metadata": {
    "_cell_guid": "b1076dfc-b9ad-4769-8c92-a6c4dae69d19",
    "_uuid": "8f2839f25d086af736a60e9eeb907d3b93b6e0e5",
    "execution": {
     "iopub.execute_input": "2022-10-14T15:55:03.174596Z",
     "iopub.status.busy": "2022-10-14T15:55:03.173614Z",
     "iopub.status.idle": "2022-10-14T15:55:03.201362Z",
     "shell.execute_reply": "2022-10-14T15:55:03.199996Z"
    },
    "papermill": {
     "duration": 0.058,
     "end_time": "2022-10-14T15:55:03.204870",
     "exception": false,
     "start_time": "2022-10-14T15:55:03.146870",
     "status": "completed"
    },
    "tags": []
   },
   "source": [
    "\n",
    "Welcome to my code !!\n",
    "\n",
    "Here, I have chosen 11 different types of regression model and built it, visualized the result that every model created, evaluated  it with two most popular regression metrics and compared with each other at last and found the excellent performer and worst performer for our dataset...\n"
   ]
  },
  {
   "cell_type": "code",
   "execution_count": 2,
   "id": "20cdca98",
   "metadata": {
    "execution": {
     "iopub.execute_input": "2022-10-14T15:55:03.253539Z",
     "iopub.status.busy": "2022-10-14T15:55:03.252635Z",
     "iopub.status.idle": "2022-10-14T15:55:04.731774Z",
     "shell.execute_reply": "2022-10-14T15:55:04.730488Z"
    },
    "papermill": {
     "duration": 1.505994,
     "end_time": "2022-10-14T15:55:04.734384",
     "exception": false,
     "start_time": "2022-10-14T15:55:03.228390",
     "status": "completed"
    },
    "tags": []
   },
   "outputs": [],
   "source": [
    "#import all the library at first line so that our code looks organized\n",
    "\n",
    "import numpy as np # linear algebra\n",
    "import pandas as pd # data processing, CSV file I/O (e.g. pd.read_csv)\n",
    "import matplotlib.pyplot as plt\n",
    "import seaborn as sns #for visualization \n",
    "%matplotlib inline\n",
    "from sklearn.model_selection import train_test_split\n",
    "from sklearn.linear_model import LinearRegression\n",
    "from sklearn.linear_model import Ridge\n",
    "from sklearn.linear_model import Lasso\n",
    "from sklearn.svm import SVC\n",
    "from sklearn.naive_bayes import GaussianNB\n",
    "from sklearn.tree import DecisionTreeRegressor\n",
    "from sklearn import tree\n",
    "from sklearn.preprocessing  import PolynomialFeatures\n",
    "from sklearn import neighbors\n",
    "from sklearn.neighbors import KNeighborsClassifier\n",
    "from sklearn.ensemble import RandomForestRegressor\n",
    "from sklearn.linear_model import LogisticRegression\n",
    "from sklearn.linear_model import ElasticNet\n",
    "\n",
    "#import evaluation libraries\n",
    "#regression metrics \n",
    "from sklearn.metrics import  mean_squared_error, r2_score #top popular regression evaluation metrics\n",
    "from sklearn import preprocessing #for data preprocessing \n",
    "\n"
   ]
  },
  {
   "cell_type": "code",
   "execution_count": 3,
   "id": "3f953fba",
   "metadata": {
    "execution": {
     "iopub.execute_input": "2022-10-14T15:55:04.777950Z",
     "iopub.status.busy": "2022-10-14T15:55:04.777571Z",
     "iopub.status.idle": "2022-10-14T15:55:04.821749Z",
     "shell.execute_reply": "2022-10-14T15:55:04.820486Z"
    },
    "papermill": {
     "duration": 0.070237,
     "end_time": "2022-10-14T15:55:04.824322",
     "exception": false,
     "start_time": "2022-10-14T15:55:04.754085",
     "status": "completed"
    },
    "tags": []
   },
   "outputs": [
    {
     "data": {
      "text/html": [
       "<div>\n",
       "<style scoped>\n",
       "    .dataframe tbody tr th:only-of-type {\n",
       "        vertical-align: middle;\n",
       "    }\n",
       "\n",
       "    .dataframe tbody tr th {\n",
       "        vertical-align: top;\n",
       "    }\n",
       "\n",
       "    .dataframe thead th {\n",
       "        text-align: right;\n",
       "    }\n",
       "</style>\n",
       "<table border=\"1\" class=\"dataframe\">\n",
       "  <thead>\n",
       "    <tr style=\"text-align: right;\">\n",
       "      <th></th>\n",
       "      <th>y</th>\n",
       "      <th>x1</th>\n",
       "      <th>x2</th>\n",
       "      <th>x3</th>\n",
       "      <th>x4</th>\n",
       "      <th>x5</th>\n",
       "      <th>x6</th>\n",
       "      <th>x7</th>\n",
       "      <th>x8</th>\n",
       "      <th>x9</th>\n",
       "      <th>x10</th>\n",
       "      <th>x11</th>\n",
       "      <th>x11.1</th>\n",
       "      <th>x12</th>\n",
       "    </tr>\n",
       "  </thead>\n",
       "  <tbody>\n",
       "    <tr>\n",
       "      <th>0</th>\n",
       "      <td>49.83</td>\n",
       "      <td>1.68</td>\n",
       "      <td>82.8</td>\n",
       "      <td>24</td>\n",
       "      <td>6.554</td>\n",
       "      <td>6.538</td>\n",
       "      <td>6.438</td>\n",
       "      <td>6.390</td>\n",
       "      <td>6.318</td>\n",
       "      <td>29.44</td>\n",
       "      <td>39.83</td>\n",
       "      <td>59.10</td>\n",
       "      <td>54.11</td>\n",
       "      <td>40.72</td>\n",
       "    </tr>\n",
       "    <tr>\n",
       "      <th>1</th>\n",
       "      <td>50.12</td>\n",
       "      <td>1.71</td>\n",
       "      <td>86.5</td>\n",
       "      <td>53</td>\n",
       "      <td>6.593</td>\n",
       "      <td>6.578</td>\n",
       "      <td>6.465</td>\n",
       "      <td>6.420</td>\n",
       "      <td>6.356</td>\n",
       "      <td>19.11</td>\n",
       "      <td>40.19</td>\n",
       "      <td>57.34</td>\n",
       "      <td>53.60</td>\n",
       "      <td>39.24</td>\n",
       "    </tr>\n",
       "    <tr>\n",
       "      <th>2</th>\n",
       "      <td>49.02</td>\n",
       "      <td>1.65</td>\n",
       "      <td>91.0</td>\n",
       "      <td>45</td>\n",
       "      <td>6.488</td>\n",
       "      <td>6.466</td>\n",
       "      <td>6.360</td>\n",
       "      <td>6.313</td>\n",
       "      <td>6.251</td>\n",
       "      <td>31.00</td>\n",
       "      <td>41.56</td>\n",
       "      <td>56.69</td>\n",
       "      <td>50.99</td>\n",
       "      <td>38.08</td>\n",
       "    </tr>\n",
       "    <tr>\n",
       "      <th>3</th>\n",
       "      <td>61.70</td>\n",
       "      <td>1.69</td>\n",
       "      <td>100.7</td>\n",
       "      <td>42</td>\n",
       "      <td>6.361</td>\n",
       "      <td>6.334</td>\n",
       "      <td>6.209</td>\n",
       "      <td>6.160</td>\n",
       "      <td>6.087</td>\n",
       "      <td>33.39</td>\n",
       "      <td>44.33</td>\n",
       "      <td>52.26</td>\n",
       "      <td>45.33</td>\n",
       "      <td>29.23</td>\n",
       "    </tr>\n",
       "    <tr>\n",
       "      <th>4</th>\n",
       "      <td>40.83</td>\n",
       "      <td>1.72</td>\n",
       "      <td>62.3</td>\n",
       "      <td>37</td>\n",
       "      <td>6.667</td>\n",
       "      <td>6.644</td>\n",
       "      <td>6.539</td>\n",
       "      <td>6.491</td>\n",
       "      <td>6.417</td>\n",
       "      <td>34.33</td>\n",
       "      <td>48.35</td>\n",
       "      <td>69.03</td>\n",
       "      <td>62.02</td>\n",
       "      <td>44.97</td>\n",
       "    </tr>\n",
       "  </tbody>\n",
       "</table>\n",
       "</div>"
      ],
      "text/plain": [
       "       y    x1     x2  x3     x4     x5     x6     x7     x8     x9    x10  \\\n",
       "0  49.83  1.68   82.8  24  6.554  6.538  6.438  6.390  6.318  29.44  39.83   \n",
       "1  50.12  1.71   86.5  53  6.593  6.578  6.465  6.420  6.356  19.11  40.19   \n",
       "2  49.02  1.65   91.0  45  6.488  6.466  6.360  6.313  6.251  31.00  41.56   \n",
       "3  61.70  1.69  100.7  42  6.361  6.334  6.209  6.160  6.087  33.39  44.33   \n",
       "4  40.83  1.72   62.3  37  6.667  6.644  6.539  6.491  6.417  34.33  48.35   \n",
       "\n",
       "     x11  x11.1    x12  \n",
       "0  59.10  54.11  40.72  \n",
       "1  57.34  53.60  39.24  \n",
       "2  56.69  50.99  38.08  \n",
       "3  52.26  45.33  29.23  \n",
       "4  69.03  62.02  44.97  "
      ]
     },
     "execution_count": 3,
     "metadata": {},
     "output_type": "execute_result"
    }
   ],
   "source": [
    "#import dataset\n",
    "df = pd.read_csv(\"data.csv\")\n",
    "df.head()"
   ]
  },
  {
   "cell_type": "code",
   "execution_count": 4,
   "id": "faba8489",
   "metadata": {
    "execution": {
     "iopub.execute_input": "2022-10-14T15:55:04.865759Z",
     "iopub.status.busy": "2022-10-14T15:55:04.864870Z",
     "iopub.status.idle": "2022-10-14T15:55:04.873677Z",
     "shell.execute_reply": "2022-10-14T15:55:04.872483Z"
    },
    "papermill": {
     "duration": 0.031626,
     "end_time": "2022-10-14T15:55:04.876062",
     "exception": false,
     "start_time": "2022-10-14T15:55:04.844436",
     "status": "completed"
    },
    "tags": []
   },
   "outputs": [
    {
     "data": {
      "text/plain": [
       "y        float64\n",
       "x1       float64\n",
       "x2       float64\n",
       "x3         int64\n",
       "x4       float64\n",
       "x5       float64\n",
       "x6       float64\n",
       "x7       float64\n",
       "x8       float64\n",
       "x9       float64\n",
       "x10      float64\n",
       "x11      float64\n",
       "x11.1    float64\n",
       "x12      float64\n",
       "dtype: object"
      ]
     },
     "execution_count": 4,
     "metadata": {},
     "output_type": "execute_result"
    }
   ],
   "source": [
    "#Although we have all numbered data , let's check our datatypes \n",
    "df.dtypes "
   ]
  },
  {
   "cell_type": "code",
   "execution_count": 5,
   "id": "8d4a90f2",
   "metadata": {
    "execution": {
     "iopub.execute_input": "2022-10-14T15:55:04.916436Z",
     "iopub.status.busy": "2022-10-14T15:55:04.916036Z",
     "iopub.status.idle": "2022-10-14T15:55:04.931534Z",
     "shell.execute_reply": "2022-10-14T15:55:04.929719Z"
    },
    "papermill": {
     "duration": 0.03915,
     "end_time": "2022-10-14T15:55:04.934552",
     "exception": false,
     "start_time": "2022-10-14T15:55:04.895402",
     "status": "completed"
    },
    "tags": []
   },
   "outputs": [
    {
     "name": "stdout",
     "output_type": "stream",
     "text": [
      "[[ 1.68 82.8  24.   ... 59.1  54.11 40.72]\n",
      " [ 1.71 86.5  53.   ... 57.34 53.6  39.24]\n",
      " [ 1.65 91.   45.   ... 56.69 50.99 38.08]\n",
      " ...\n",
      " [ 1.62 92.5  22.   ... 50.65 44.56 30.1 ]\n",
      " [ 1.68 90.2  19.   ... 57.54 50.04 34.58]\n",
      " [ 1.64 94.8  32.   ... 59.91 53.73 38.25]]\n",
      "[[49.83]\n",
      " [50.12]\n",
      " [49.02]\n",
      " [61.7 ]\n",
      " [40.83]\n",
      " [46.17]\n",
      " [45.85]\n",
      " [46.01]\n",
      " [55.63]\n",
      " [50.67]\n",
      " [48.29]\n",
      " [55.25]\n",
      " [61.76]\n",
      " [64.53]\n",
      " [49.88]\n",
      " [49.14]\n",
      " [55.15]\n",
      " [55.52]\n",
      " [61.06]\n",
      " [49.58]\n",
      " [57.74]\n",
      " [50.15]\n",
      " [63.2 ]\n",
      " [44.97]\n",
      " [50.93]\n",
      " [45.75]\n",
      " [52.49]\n",
      " [50.7 ]\n",
      " [49.84]\n",
      " [49.96]\n",
      " [57.45]\n",
      " [49.88]\n",
      " [48.58]\n",
      " [58.23]\n",
      " [39.67]\n",
      " [64.83]\n",
      " [36.95]\n",
      " [43.02]\n",
      " [70.32]\n",
      " [41.36]\n",
      " [44.88]\n",
      " [57.45]\n",
      " [65.2 ]\n",
      " [51.8 ]\n",
      " [66.54]\n",
      " [46.27]\n",
      " [51.76]\n",
      " [59.31]\n",
      " [49.48]\n",
      " [56.98]\n",
      " [48.94]\n",
      " [62.02]\n",
      " [54.71]\n",
      " [51.44]\n",
      " [46.18]\n",
      " [51.17]\n",
      " [66.63]\n",
      " [50.8 ]\n",
      " [61.95]\n",
      " [49.65]\n",
      " [58.65]\n",
      " [47.67]\n",
      " [55.13]\n",
      " [62.01]\n",
      " [57.77]\n",
      " [56.36]\n",
      " [46.61]\n",
      " [65.04]\n",
      " [57.91]\n",
      " [57.38]\n",
      " [64.81]\n",
      " [39.23]\n",
      " [49.76]\n",
      " [71.57]\n",
      " [62.46]\n",
      " [64.04]\n",
      " [45.28]\n",
      " [42.17]\n",
      " [57.4 ]\n",
      " [64.76]\n",
      " [54.16]\n",
      " [63.17]\n",
      " [60.35]\n",
      " [56.02]\n",
      " [53.01]\n",
      " [58.67]\n",
      " [54.81]\n",
      " [69.45]\n",
      " [47.32]\n",
      " [51.12]\n",
      " [62.21]\n",
      " [73.05]\n",
      " [56.59]\n",
      " [37.36]\n",
      " [53.4 ]\n",
      " [57.04]\n",
      " [66.92]\n",
      " [74.95]\n",
      " [53.3 ]\n",
      " [63.01]\n",
      " [36.59]\n",
      " [52.58]\n",
      " [64.01]\n",
      " [65.77]\n",
      " [63.58]\n",
      " [62.96]\n",
      " [53.46]\n",
      " [60.41]\n",
      " [58.98]\n",
      " [67.02]\n",
      " [55.01]\n",
      " [63.81]\n",
      " [45.02]\n",
      " [62.02]\n",
      " [53.03]\n",
      " [61.69]\n",
      " [51.61]\n",
      " [50.77]\n",
      " [58.49]\n",
      " [58.5 ]\n",
      " [63.35]\n",
      " [46.58]\n",
      " [61.93]\n",
      " [42.79]\n",
      " [55.16]\n",
      " [67.65]\n",
      " [45.79]\n",
      " [74.08]\n",
      " [58.42]\n",
      " [49.63]\n",
      " [45.67]\n",
      " [59.02]\n",
      " [57.67]\n",
      " [59.71]\n",
      " [55.04]]\n"
     ]
    }
   ],
   "source": [
    "#Extracting the input and output variable or dependent and independent dataset and reshaping \n",
    "\n",
    "x = df.iloc[:, 1:].values\n",
    "y = df['y'].values.reshape(-1,1) #reshape the data to the 2D array\n",
    "print(x)\n",
    "print(y)"
   ]
  },
  {
   "cell_type": "markdown",
   "id": "2a665489",
   "metadata": {
    "papermill": {
     "duration": 0.019127,
     "end_time": "2022-10-14T15:55:04.973796",
     "exception": false,
     "start_time": "2022-10-14T15:55:04.954669",
     "status": "completed"
    },
    "tags": []
   },
   "source": [
    "# **Data Visualization **"
   ]
  },
  {
   "cell_type": "code",
   "execution_count": 6,
   "id": "1b4f3566",
   "metadata": {
    "execution": {
     "iopub.execute_input": "2022-10-14T15:55:05.015653Z",
     "iopub.status.busy": "2022-10-14T15:55:05.015263Z",
     "iopub.status.idle": "2022-10-14T15:55:05.480198Z",
     "shell.execute_reply": "2022-10-14T15:55:05.479192Z"
    },
    "papermill": {
     "duration": 0.488558,
     "end_time": "2022-10-14T15:55:05.482759",
     "exception": false,
     "start_time": "2022-10-14T15:55:04.994201",
     "status": "completed"
    },
    "tags": []
   },
   "outputs": [
    {
     "data": {
      "text/plain": [
       "<AxesSubplot:>"
      ]
     },
     "execution_count": 6,
     "metadata": {},
     "output_type": "execute_result"
    },
    {
     "data": {
      "image/png": "[encoded data removed]",
      "text/plain": [
       "<Figure size 1080x576 with 2 Axes>"
      ]
     },
     "metadata": {
      "needs_background": "light"
     },
     "output_type": "display_data"
    }
   ],
   "source": [
    "#data visualizaation for correlation between input and output variable\n",
    "f, ax = plt.subplots(figsize=(15, 8))\n",
    "sns.despine(f)#sns.despine function removes the top and right spines from plots helps customize the figsize.\n",
    "sns.heatmap(df.corr()) "
   ]
  },
  {
   "cell_type": "code",
   "execution_count": 7,
   "id": "a2934a4d",
   "metadata": {
    "execution": {
     "iopub.execute_input": "2022-10-14T15:55:05.526932Z",
     "iopub.status.busy": "2022-10-14T15:55:05.526111Z",
     "iopub.status.idle": "2022-10-14T15:55:05.930805Z",
     "shell.execute_reply": "2022-10-14T15:55:05.929924Z"
    },
    "papermill": {
     "duration": 0.431506,
     "end_time": "2022-10-14T15:55:05.935554",
     "exception": false,
     "start_time": "2022-10-14T15:55:05.504048",
     "status": "completed"
    },
    "tags": []
   },
   "outputs": [
    {
     "data": {
      "image/png": "[encoded data removed]",
      "text/plain": [
       "<Figure size 1080x360 with 1 Axes>"
      ]
     },
     "metadata": {
      "needs_background": "light"
     },
     "output_type": "display_data"
    }
   ],
   "source": [
    "# visualization with Multiple lines with label plot \n",
    "f, ax = plt.subplots(figsize=(15, 5)) #for the size\n",
    "sns.despine(f) #sns.despine function removes the top and right spines from plots helps customize the figsize.\n",
    "plt.plot(y, label = \"y\")\n",
    "plt.plot(df['x1'], label = \"x1\")\n",
    "plt.plot(df['x2'], label = \"x2\")\n",
    "plt.plot(df['x3'], label = \"x3\")\n",
    "plt.plot(df['x4'], label = \"x4\")\n",
    "plt.plot(df['x5'], label = \"x5\")\n",
    "plt.plot(df['x6'], label = \"x6\")\n",
    "plt.plot(df['x7'], label = \"x7\")\n",
    "plt.plot(df['x8'], label = \"x8\")\n",
    "plt.plot(df['x9'], label = \"x9\")\n",
    "plt.plot(df['x10'], label = \"x10\")\n",
    "plt.plot(df['x11'], label = \"x11\")\n",
    "plt.plot(df['x11.1'], label = \"x11.1\")\n",
    "plt.plot(df['x12'], label = \"x12\")\n",
    "plt.title('dataset ')\n",
    "plt.xlabel(\"x-axis\")\n",
    "plt.ylabel(\"y-axis\")\n",
    "plt.legend() # Describing the element of the graph\n",
    "plt.show()"
   ]
  },
  {
   "cell_type": "code",
   "execution_count": 8,
   "id": "2444468d",
   "metadata": {
    "execution": {
     "iopub.execute_input": "2022-10-14T15:55:05.983720Z",
     "iopub.status.busy": "2022-10-14T15:55:05.982930Z",
     "iopub.status.idle": "2022-10-14T15:55:06.625323Z",
     "shell.execute_reply": "2022-10-14T15:55:06.624075Z"
    },
    "papermill": {
     "duration": 0.669214,
     "end_time": "2022-10-14T15:55:06.627827",
     "exception": false,
     "start_time": "2022-10-14T15:55:05.958613",
     "status": "completed"
    },
    "tags": []
   },
   "outputs": [
    {
     "data": {
      "text/plain": [
       "<AxesSubplot:>"
      ]
     },
     "execution_count": 8,
     "metadata": {},
     "output_type": "execute_result"
    },
    {
     "data": {
      "image/png": "[encoded data removed]",
      "text/plain": [
       "<Figure size 1440x360 with 1 Axes>"
      ]
     },
     "metadata": {
      "needs_background": "light"
     },
     "output_type": "display_data"
    }
   ],
   "source": [
    "#visualization with pointplot\n",
    "f, ax= plt.subplots(figsize =(20,5))\n",
    "sns.despine(f)\n",
    "sns.pointplot(data=df)"
   ]
  },
  {
   "cell_type": "markdown",
   "id": "2105f7ef",
   "metadata": {
    "execution": {
     "iopub.status.busy": "2022-10-14T15:32:41.141780Z",
     "iopub.status.idle": "2022-10-14T15:32:41.142066Z",
     "shell.execute_reply": "2022-10-14T15:32:41.141941Z",
     "shell.execute_reply.started": "2022-10-14T15:32:41.141927Z"
    },
    "papermill": {
     "duration": 0.023229,
     "end_time": "2022-10-14T15:55:06.674687",
     "exception": false,
     "start_time": "2022-10-14T15:55:06.651458",
     "status": "completed"
    },
    "tags": []
   },
   "source": [
    "# Data preprocessing"
   ]
  },
  {
   "cell_type": "code",
   "execution_count": 9,
   "id": "7c79a455",
   "metadata": {
    "execution": {
     "iopub.execute_input": "2022-10-14T15:55:06.724660Z",
     "iopub.status.busy": "2022-10-14T15:55:06.724234Z",
     "iopub.status.idle": "2022-10-14T15:55:06.733586Z",
     "shell.execute_reply": "2022-10-14T15:55:06.732265Z"
    },
    "papermill": {
     "duration": 0.03697,
     "end_time": "2022-10-14T15:55:06.735900",
     "exception": false,
     "start_time": "2022-10-14T15:55:06.698930",
     "status": "completed"
    },
    "tags": []
   },
   "outputs": [
    {
     "data": {
      "text/plain": [
       "y        0\n",
       "x1       0\n",
       "x2       0\n",
       "x3       0\n",
       "x4       0\n",
       "x5       0\n",
       "x6       0\n",
       "x7       0\n",
       "x8       0\n",
       "x9       0\n",
       "x10      0\n",
       "x11      0\n",
       "x11.1    0\n",
       "x12      0\n",
       "dtype: int64"
      ]
     },
     "execution_count": 9,
     "metadata": {},
     "output_type": "execute_result"
    }
   ],
   "source": [
    "#Now let's check the  missing values \n",
    "df.isnull().sum()"
   ]
  },
  {
   "cell_type": "code",
   "execution_count": 10,
   "id": "f803b159",
   "metadata": {
    "execution": {
     "iopub.execute_input": "2022-10-14T15:55:06.785155Z",
     "iopub.status.busy": "2022-10-14T15:55:06.784751Z",
     "iopub.status.idle": "2022-10-14T15:55:06.790728Z",
     "shell.execute_reply": "2022-10-14T15:55:06.789561Z"
    },
    "papermill": {
     "duration": 0.034529,
     "end_time": "2022-10-14T15:55:06.794083",
     "exception": false,
     "start_time": "2022-10-14T15:55:06.759554",
     "status": "completed"
    },
    "tags": []
   },
   "outputs": [
    {
     "name": "stdout",
     "output_type": "stream",
     "text": [
      "[82.8   24.     6.554  6.538  6.438  6.39   6.318 29.44  39.83  59.1\n",
      " 54.11  40.72 ]\n"
     ]
    }
   ],
   "source": [
    "#avoiding the dummy values\n",
    "x = x[:, 1:]\n",
    "print(x[0])"
   ]
  },
  {
   "cell_type": "code",
   "execution_count": 11,
   "id": "2aad6112",
   "metadata": {
    "execution": {
     "iopub.execute_input": "2022-10-14T15:55:06.846090Z",
     "iopub.status.busy": "2022-10-14T15:55:06.844845Z",
     "iopub.status.idle": "2022-10-14T15:55:06.855488Z",
     "shell.execute_reply": "2022-10-14T15:55:06.853832Z"
    },
    "papermill": {
     "duration": 0.03845,
     "end_time": "2022-10-14T15:55:06.857895",
     "exception": false,
     "start_time": "2022-10-14T15:55:06.819445",
     "status": "completed"
    },
    "tags": []
   },
   "outputs": [
    {
     "name": "stdout",
     "output_type": "stream",
     "text": [
      "[ 36  40  29  97   5  19  17  18  70  42  26  68  98 114  38  30  66  69\n",
      "  95  32  80  41 108  11  46  15  53  43  37  39  78  38  27  83   4 117\n",
      "   1   9 127   6  10  78 119  52 121  21  51  91  31  74  28 102  61  49\n",
      "  20  48 122  45 100  34  87  25  65 101  81  72  23 118  82  76 116   3\n",
      "  35 128 104 113  13   7  77 115  60 107  93  71  55  88  62 126  24  47\n",
      " 103 129  73   2  58  75 123 131  57 106   0  54 112 120 110 105  59  94\n",
      "  89 124  63 111  12 102  56  96  50  44  85  86 109  22  99   8  67 125\n",
      "  16 130  84  33  14  90  79  92  64]\n"
     ]
    },
    {
     "name": "stderr",
     "output_type": "stream",
     "text": [
      "/opt/conda/lib/python3.7/site-packages/sklearn/preprocessing/_label.py:115: DataConversionWarning: A column-vector y was passed when a 1d array was expected. Please change the shape of y to (n_samples, ), for example using ravel().\n",
      "  y = column_or_1d(y, warn=True)\n"
     ]
    }
   ],
   "source": [
    "# Create label encoder object for  KNN, svm, gaussian NB  adn logistic regression only\n",
    "labels = preprocessing.LabelEncoder()\n",
    "#converting the continuous value to categorical data\n",
    "y_cat = labels.fit_transform(y)\n",
    "print(y_cat)"
   ]
  },
  {
   "cell_type": "code",
   "execution_count": 12,
   "id": "5210bcb6",
   "metadata": {
    "execution": {
     "iopub.execute_input": "2022-10-14T15:55:06.906676Z",
     "iopub.status.busy": "2022-10-14T15:55:06.906249Z",
     "iopub.status.idle": "2022-10-14T15:55:06.915305Z",
     "shell.execute_reply": "2022-10-14T15:55:06.914186Z"
    },
    "papermill": {
     "duration": 0.035989,
     "end_time": "2022-10-14T15:55:06.917490",
     "exception": false,
     "start_time": "2022-10-14T15:55:06.881501",
     "status": "completed"
    },
    "tags": []
   },
   "outputs": [
    {
     "data": {
      "text/plain": [
       "array([[  82.8   ,   24.    ,    6.554 , ..., 2927.8921, 2203.3592,\n",
       "        1658.1184],\n",
       "       [  86.5   ,   53.    ,    6.593 , ..., 2872.96  , 2103.264 ,\n",
       "        1539.7776],\n",
       "       [  91.    ,   45.    ,    6.488 , ..., 2599.9801, 1941.6992,\n",
       "        1450.0864],\n",
       "       ...,\n",
       "       [  92.5   ,   22.    ,    6.285 , ..., 1985.5936, 1341.256 ,\n",
       "         906.01  ],\n",
       "       [  90.2   ,   19.    ,    6.336 , ..., 2504.0016, 1730.3832,\n",
       "        1195.7764],\n",
       "       [  94.8   ,   32.    ,    6.435 , ..., 2886.9129, 2055.1725,\n",
       "        1463.0625]])"
      ]
     },
     "execution_count": 12,
     "metadata": {},
     "output_type": "execute_result"
    }
   ],
   "source": [
    "#generating polynomial features for polynomial regression only\n",
    "poly = PolynomialFeatures(degree =2, include_bias = False)\n",
    "#creating the new features\n",
    "poly_features = poly.fit_transform(x)\n",
    "poly_features"
   ]
  },
  {
   "cell_type": "markdown",
   "id": "b9ea1689",
   "metadata": {
    "papermill": {
     "duration": 0.02329,
     "end_time": "2022-10-14T15:55:06.965460",
     "exception": false,
     "start_time": "2022-10-14T15:55:06.942170",
     "status": "completed"
    },
    "tags": []
   },
   "source": [
    "# Split the data into training and testing dataset according to the data types that needs for different types of regression model(continuous or categorical): you can read the each comment below."
   ]
  },
  {
   "cell_type": "code",
   "execution_count": 13,
   "id": "4c1b9ff9",
   "metadata": {
    "execution": {
     "iopub.execute_input": "2022-10-14T15:55:07.014553Z",
     "iopub.status.busy": "2022-10-14T15:55:07.014167Z",
     "iopub.status.idle": "2022-10-14T15:55:07.022436Z",
     "shell.execute_reply": "2022-10-14T15:55:07.021038Z"
    },
    "papermill": {
     "duration": 0.035643,
     "end_time": "2022-10-14T15:55:07.024803",
     "exception": false,
     "start_time": "2022-10-14T15:55:06.989160",
     "status": "completed"
    },
    "tags": []
   },
   "outputs": [
    {
     "name": "stdout",
     "output_type": "stream",
     "text": [
      "X_train: (108, 90)\n",
      "X_test: (27, 90)\n",
      "Y_train: (108, 1)\n",
      "Y_test: (27, 1)\n"
     ]
    }
   ],
   "source": [
    "#splitting the data into training and testing set only for polynomial Regression model\n",
    "x_train, x_test, y_train, y_test = train_test_split(poly_features, y, test_size = 0.2, random_state = 0)\\\n",
    "#shapes of splitted data\n",
    "print(\"X_train:\",x_train.shape)\n",
    "print(\"X_test:\",x_test.shape)\n",
    "print(\"Y_train:\",y_train.shape)\n",
    "print(\"Y_test:\",y_test.shape)"
   ]
  },
  {
   "cell_type": "markdown",
   "id": "31261ca4",
   "metadata": {
    "papermill": {
     "duration": 0.023506,
     "end_time": "2022-10-14T15:55:07.072091",
     "exception": false,
     "start_time": "2022-10-14T15:55:07.048585",
     "status": "completed"
    },
    "tags": []
   },
   "source": [
    "# Now, Fiting the model  to our dataset and predict output one by one \n"
   ]
  },
  {
   "cell_type": "markdown",
   "id": "0db1eb1d",
   "metadata": {
    "papermill": {
     "duration": 0.023348,
     "end_time": "2022-10-14T15:55:07.118995",
     "exception": false,
     "start_time": "2022-10-14T15:55:07.095647",
     "status": "completed"
    },
    "tags": []
   },
   "source": [
    "# **Polynomial Regression **"
   ]
  },
  {
   "cell_type": "code",
   "execution_count": 14,
   "id": "4b45c326",
   "metadata": {
    "execution": {
     "iopub.execute_input": "2022-10-14T15:55:07.168325Z",
     "iopub.status.busy": "2022-10-14T15:55:07.167931Z",
     "iopub.status.idle": "2022-10-14T15:55:07.201639Z",
     "shell.execute_reply": "2022-10-14T15:55:07.200044Z"
    },
    "papermill": {
     "duration": 0.063115,
     "end_time": "2022-10-14T15:55:07.205832",
     "exception": false,
     "start_time": "2022-10-14T15:55:07.142717",
     "status": "completed"
    },
    "tags": []
   },
   "outputs": [
    {
     "data": {
      "text/plain": [
       "LinearRegression()"
      ]
     },
     "execution_count": 14,
     "metadata": {},
     "output_type": "execute_result"
    }
   ],
   "source": [
    "#let's fit to linear regression: this is not normal linear regression because we trained poly_feature data  when we splitting so it will be polynomial linear regresssion . \n",
    "poly_reg_model= LinearRegression()\n",
    "#then we fit our polynomial data\n",
    "poly_reg_model.fit(x_train, y_train)"
   ]
  },
  {
   "cell_type": "code",
   "execution_count": 15,
   "id": "dbb24bab",
   "metadata": {
    "execution": {
     "iopub.execute_input": "2022-10-14T15:55:07.322205Z",
     "iopub.status.busy": "2022-10-14T15:55:07.321770Z",
     "iopub.status.idle": "2022-10-14T15:55:07.329613Z",
     "shell.execute_reply": "2022-10-14T15:55:07.328374Z"
    },
    "papermill": {
     "duration": 0.06472,
     "end_time": "2022-10-14T15:55:07.333044",
     "exception": false,
     "start_time": "2022-10-14T15:55:07.268324",
     "status": "completed"
    },
    "tags": []
   },
   "outputs": [
    {
     "name": "stdout",
     "output_type": "stream",
     "text": [
      "[[ 69.47754246]\n",
      " [ 55.26455668]\n",
      " [ 54.74022641]\n",
      " [ 46.12105766]\n",
      " [ 61.6325385 ]\n",
      " [ 39.14335602]\n",
      " [ 48.16113515]\n",
      " [ 57.71903723]\n",
      " [ 67.83673537]\n",
      " [ 74.4622957 ]\n",
      " [ 43.51333332]\n",
      " [ 60.99156675]\n",
      " [ 43.67303079]\n",
      " [ 40.41674177]\n",
      " [ 43.41522795]\n",
      " [ 54.0678466 ]\n",
      " [ 24.92300784]\n",
      " [ 55.47927018]\n",
      " [ 79.88575482]\n",
      " [ 36.04138675]\n",
      " [ 60.02013833]\n",
      " [ 64.92069632]\n",
      " [ 53.11590764]\n",
      " [ 60.51703735]\n",
      " [ 66.88800035]\n",
      " [163.80976727]\n",
      " [ 52.73328171]]\n"
     ]
    }
   ],
   "source": [
    "#now lets predict our ouput with polynomial model first \n",
    "y_pred = poly_reg_model.predict(x_test)\n",
    "print(y_pred)"
   ]
  },
  {
   "cell_type": "code",
   "execution_count": 16,
   "id": "d498570e",
   "metadata": {
    "execution": {
     "iopub.execute_input": "2022-10-14T15:55:07.383300Z",
     "iopub.status.busy": "2022-10-14T15:55:07.382667Z",
     "iopub.status.idle": "2022-10-14T15:55:07.574159Z",
     "shell.execute_reply": "2022-10-14T15:55:07.572903Z"
    },
    "papermill": {
     "duration": 0.219818,
     "end_time": "2022-10-14T15:55:07.576708",
     "exception": false,
     "start_time": "2022-10-14T15:55:07.356890",
     "status": "completed"
    },
    "tags": []
   },
   "outputs": [
    {
     "data": {
      "image/png": "[encoded data removed]",
      "text/plain": [
       "<Figure size 432x288 with 1 Axes>"
      ]
     },
     "metadata": {
      "needs_background": "light"
     },
     "output_type": "display_data"
    }
   ],
   "source": [
    "#Now visualize the result without regression line first\n",
    "plt.scatter(y_test, y_pred)\n",
    "plt.title(\"Polynomial Regression  result\", size = 20)\n",
    "plt.xlabel(\"Actual\")\n",
    "plt.ylabel(\"predicted\")\n",
    "plt.show()"
   ]
  },
  {
   "cell_type": "code",
   "execution_count": 17,
   "id": "55b97a73",
   "metadata": {
    "execution": {
     "iopub.execute_input": "2022-10-14T15:55:07.628066Z",
     "iopub.status.busy": "2022-10-14T15:55:07.626890Z",
     "iopub.status.idle": "2022-10-14T15:55:07.851839Z",
     "shell.execute_reply": "2022-10-14T15:55:07.850659Z"
    },
    "papermill": {
     "duration": 0.253514,
     "end_time": "2022-10-14T15:55:07.854533",
     "exception": false,
     "start_time": "2022-10-14T15:55:07.601019",
     "status": "completed"
    },
    "tags": []
   },
   "outputs": [
    {
     "data": {
      "image/png": "[encoded data removed]",
      "text/plain": [
       "<Figure size 432x288 with 1 Axes>"
      ]
     },
     "metadata": {
      "needs_background": "light"
     },
     "output_type": "display_data"
    }
   ],
   "source": [
    "#then visualize the result with regression line which helps us to understand the relationship between the actual and predicted one.\n",
    "sns.regplot(y = y_test, x= y_pred, ci = None, color = \"red\")\n",
    "plt.title(\"Polynomial Regression  result\", size = 20)\n",
    "plt.xlabel(\"Actual\")\n",
    "plt.ylabel(\"Predicted\")\n",
    "plt.show()"
   ]
  },
  {
   "cell_type": "code",
   "execution_count": 18,
   "id": "9d4f190b",
   "metadata": {
    "execution": {
     "iopub.execute_input": "2022-10-14T15:55:07.905394Z",
     "iopub.status.busy": "2022-10-14T15:55:07.904961Z",
     "iopub.status.idle": "2022-10-14T15:55:07.918794Z",
     "shell.execute_reply": "2022-10-14T15:55:07.917654Z"
    },
    "papermill": {
     "duration": 0.042013,
     "end_time": "2022-10-14T15:55:07.921120",
     "exception": false,
     "start_time": "2022-10-14T15:55:07.879107",
     "status": "completed"
    },
    "tags": []
   },
   "outputs": [
    {
     "data": {
      "text/html": [
       "<div>\n",
       "<style scoped>\n",
       "    .dataframe tbody tr th:only-of-type {\n",
       "        vertical-align: middle;\n",
       "    }\n",
       "\n",
       "    .dataframe tbody tr th {\n",
       "        vertical-align: top;\n",
       "    }\n",
       "\n",
       "    .dataframe thead th {\n",
       "        text-align: right;\n",
       "    }\n",
       "</style>\n",
       "<table border=\"1\" class=\"dataframe\">\n",
       "  <thead>\n",
       "    <tr style=\"text-align: right;\">\n",
       "      <th></th>\n",
       "      <th>regression_model</th>\n",
       "      <th>R2_score</th>\n",
       "      <th>Root_Mean_Squared_error</th>\n",
       "    </tr>\n",
       "  </thead>\n",
       "  <tbody>\n",
       "    <tr>\n",
       "      <th>0</th>\n",
       "      <td>polynomial Regression</td>\n",
       "      <td>-10.97265</td>\n",
       "      <td>26.721101</td>\n",
       "    </tr>\n",
       "  </tbody>\n",
       "</table>\n",
       "</div>"
      ],
      "text/plain": [
       "        regression_model  R2_score Root_Mean_Squared_error\n",
       "0  polynomial Regression -10.97265               26.721101"
      ]
     },
     "execution_count": 18,
     "metadata": {},
     "output_type": "execute_result"
    }
   ],
   "source": [
    "#evaluating the model\n",
    "r2 = r2_score(y_test, y_pred)\n",
    "rmse =np.sqrt(mean_squared_error(y_test, y_pred))\n",
    "poly_reg = pd.DataFrame([\"polynomial Regression\", r2, rmse]). transpose()\n",
    "poly_reg.columns = [\"regression_model\", \"R2_score\", \"Root_Mean_Squared_error\"]\n",
    "poly_reg"
   ]
  },
  {
   "cell_type": "code",
   "execution_count": 19,
   "id": "2427bfb0",
   "metadata": {
    "execution": {
     "iopub.execute_input": "2022-10-14T15:55:07.973929Z",
     "iopub.status.busy": "2022-10-14T15:55:07.973515Z",
     "iopub.status.idle": "2022-10-14T15:55:07.979591Z",
     "shell.execute_reply": "2022-10-14T15:55:07.978634Z"
    },
    "papermill": {
     "duration": 0.035328,
     "end_time": "2022-10-14T15:55:07.981860",
     "exception": false,
     "start_time": "2022-10-14T15:55:07.946532",
     "status": "completed"
    },
    "tags": []
   },
   "outputs": [],
   "source": [
    "#again, splitting the dataset into training and testing set for those regresson model which takes continuos variable \n",
    "x_train, x_test, y_train, y_test = train_test_split(x,y, test_size = 0.2, random_state = 0)"
   ]
  },
  {
   "cell_type": "markdown",
   "id": "b5b3d843",
   "metadata": {
    "papermill": {
     "duration": 0.02525,
     "end_time": "2022-10-14T15:55:08.032380",
     "exception": false,
     "start_time": "2022-10-14T15:55:08.007130",
     "status": "completed"
    },
    "tags": []
   },
   "source": [
    "# **Linear Regression**"
   ]
  },
  {
   "cell_type": "code",
   "execution_count": 20,
   "id": "d418a2b6",
   "metadata": {
    "execution": {
     "iopub.execute_input": "2022-10-14T15:55:08.084266Z",
     "iopub.status.busy": "2022-10-14T15:55:08.083078Z",
     "iopub.status.idle": "2022-10-14T15:55:08.091404Z",
     "shell.execute_reply": "2022-10-14T15:55:08.090275Z"
    },
    "papermill": {
     "duration": 0.036642,
     "end_time": "2022-10-14T15:55:08.093829",
     "exception": false,
     "start_time": "2022-10-14T15:55:08.057187",
     "status": "completed"
    },
    "tags": []
   },
   "outputs": [
    {
     "data": {
      "text/plain": [
       "LinearRegression()"
      ]
     },
     "execution_count": 20,
     "metadata": {},
     "output_type": "execute_result"
    }
   ],
   "source": [
    "#fitting the linear regressor model\n",
    "regressor = LinearRegression()\n",
    "regressor.fit(x_train,y_train) "
   ]
  },
  {
   "cell_type": "code",
   "execution_count": 21,
   "id": "d50d92ee",
   "metadata": {
    "execution": {
     "iopub.execute_input": "2022-10-14T15:55:08.147292Z",
     "iopub.status.busy": "2022-10-14T15:55:08.145934Z",
     "iopub.status.idle": "2022-10-14T15:55:08.153304Z",
     "shell.execute_reply": "2022-10-14T15:55:08.152143Z"
    },
    "papermill": {
     "duration": 0.036398,
     "end_time": "2022-10-14T15:55:08.155503",
     "exception": false,
     "start_time": "2022-10-14T15:55:08.119105",
     "status": "completed"
    },
    "tags": []
   },
   "outputs": [
    {
     "name": "stdout",
     "output_type": "stream",
     "text": [
      "[-5.10688985]\n",
      "[ 3.51837789e-01 -2.72217817e-02  8.38107166e+01  5.53010428e+01\n",
      "  2.69679889e+00 -2.34773721e+02  9.67565075e+01 -2.32337791e-02\n",
      " -3.09066376e-01  5.97486696e-01 -7.90057517e-01  1.22308108e-01]\n"
     ]
    }
   ],
   "source": [
    "#let's findout the coef_ and inercept_ respectively\n",
    "coeff =regressor.coef_[0]\n",
    "intercept = regressor.intercept_\n",
    "print(intercept)\n",
    "print(coeff)"
   ]
  },
  {
   "cell_type": "code",
   "execution_count": 22,
   "id": "975534f2",
   "metadata": {
    "execution": {
     "iopub.execute_input": "2022-10-14T15:55:08.211152Z",
     "iopub.status.busy": "2022-10-14T15:55:08.210657Z",
     "iopub.status.idle": "2022-10-14T15:55:08.218277Z",
     "shell.execute_reply": "2022-10-14T15:55:08.217395Z"
    },
    "papermill": {
     "duration": 0.040754,
     "end_time": "2022-10-14T15:55:08.221311",
     "exception": false,
     "start_time": "2022-10-14T15:55:08.180557",
     "status": "completed"
    },
    "tags": []
   },
   "outputs": [
    {
     "data": {
      "text/plain": [
       "array([[67.79622177],\n",
       "       [59.80083863],\n",
       "       [48.98060014],\n",
       "       [48.05247566],\n",
       "       [57.08150252],\n",
       "       [57.47911192],\n",
       "       [50.43971489],\n",
       "       [66.93311155],\n",
       "       [61.4826424 ],\n",
       "       [63.54309609],\n",
       "       [46.21257569],\n",
       "       [66.04971085],\n",
       "       [52.87325578],\n",
       "       [44.35447882],\n",
       "       [52.63030603],\n",
       "       [56.05312402],\n",
       "       [45.73845203],\n",
       "       [53.06114028],\n",
       "       [65.2371359 ],\n",
       "       [55.46082384],\n",
       "       [51.73160705],\n",
       "       [53.81186924],\n",
       "       [53.44377829],\n",
       "       [54.70583052],\n",
       "       [55.04382225],\n",
       "       [41.13734388],\n",
       "       [59.64595639]])"
      ]
     },
     "execution_count": 22,
     "metadata": {},
     "output_type": "execute_result"
    }
   ],
   "source": [
    "#predict with linear regression\n",
    "y_pred_lr = regressor.predict(x_test)\n",
    "y_pred_lr"
   ]
  },
  {
   "cell_type": "code",
   "execution_count": 23,
   "id": "22473714",
   "metadata": {
    "execution": {
     "iopub.execute_input": "2022-10-14T15:55:08.273535Z",
     "iopub.status.busy": "2022-10-14T15:55:08.273130Z",
     "iopub.status.idle": "2022-10-14T15:55:08.493877Z",
     "shell.execute_reply": "2022-10-14T15:55:08.493010Z"
    },
    "papermill": {
     "duration": 0.24935,
     "end_time": "2022-10-14T15:55:08.496239",
     "exception": false,
     "start_time": "2022-10-14T15:55:08.246889",
     "status": "completed"
    },
    "tags": []
   },
   "outputs": [
    {
     "data": {
      "image/png": "[encoded data removed]",
      "text/plain": [
       "<Figure size 432x288 with 1 Axes>"
      ]
     },
     "metadata": {
      "needs_background": "light"
     },
     "output_type": "display_data"
    }
   ],
   "source": [
    "#visualization the result without regression line \n",
    "plt.scatter(y_test,y_pred_lr)\n",
    "plt.title(\"Linear Regression  result\", size = 20)\n",
    "plt.xlabel('Actual')\n",
    "plt.ylabel('Predicted')\n",
    "plt.show()\n"
   ]
  },
  {
   "cell_type": "code",
   "execution_count": 24,
   "id": "51352693",
   "metadata": {
    "execution": {
     "iopub.execute_input": "2022-10-14T15:55:08.549399Z",
     "iopub.status.busy": "2022-10-14T15:55:08.548941Z",
     "iopub.status.idle": "2022-10-14T15:55:08.771756Z",
     "shell.execute_reply": "2022-10-14T15:55:08.770584Z"
    },
    "papermill": {
     "duration": 0.252512,
     "end_time": "2022-10-14T15:55:08.774193",
     "exception": false,
     "start_time": "2022-10-14T15:55:08.521681",
     "status": "completed"
    },
    "tags": []
   },
   "outputs": [
    {
     "data": {
      "image/png": "[encoded data removed]",
      "text/plain": [
       "<Figure size 432x288 with 1 Axes>"
      ]
     },
     "metadata": {
      "needs_background": "light"
     },
     "output_type": "display_data"
    }
   ],
   "source": [
    "#visualize the result with regression line which helps to understand the relationship between our actual and predicted one easily.\n",
    "sns.regplot(x= y_test, y=y_pred_lr, ci=None, color ='green')\n",
    "plt.title(\"Linear Regression  result\", size = 20)\n",
    "plt.xlabel('Actual')\n",
    "plt.ylabel('Predicted')\n",
    "plt.show()"
   ]
  },
  {
   "cell_type": "code",
   "execution_count": 25,
   "id": "57fb16db",
   "metadata": {
    "execution": {
     "iopub.execute_input": "2022-10-14T15:55:08.827742Z",
     "iopub.status.busy": "2022-10-14T15:55:08.827327Z",
     "iopub.status.idle": "2022-10-14T15:55:08.841026Z",
     "shell.execute_reply": "2022-10-14T15:55:08.839836Z"
    },
    "papermill": {
     "duration": 0.043944,
     "end_time": "2022-10-14T15:55:08.843674",
     "exception": false,
     "start_time": "2022-10-14T15:55:08.799730",
     "status": "completed"
    },
    "tags": []
   },
   "outputs": [
    {
     "data": {
      "text/html": [
       "<div>\n",
       "<style scoped>\n",
       "    .dataframe tbody tr th:only-of-type {\n",
       "        vertical-align: middle;\n",
       "    }\n",
       "\n",
       "    .dataframe tbody tr th {\n",
       "        vertical-align: top;\n",
       "    }\n",
       "\n",
       "    .dataframe thead th {\n",
       "        text-align: right;\n",
       "    }\n",
       "</style>\n",
       "<table border=\"1\" class=\"dataframe\">\n",
       "  <thead>\n",
       "    <tr style=\"text-align: right;\">\n",
       "      <th></th>\n",
       "      <th>regression_model</th>\n",
       "      <th>R2_score</th>\n",
       "      <th>Root_Mean_Squared_error</th>\n",
       "    </tr>\n",
       "  </thead>\n",
       "  <tbody>\n",
       "    <tr>\n",
       "      <th>0</th>\n",
       "      <td>linear regression</td>\n",
       "      <td>0.751442</td>\n",
       "      <td>3.85011</td>\n",
       "    </tr>\n",
       "  </tbody>\n",
       "</table>\n",
       "</div>"
      ],
      "text/plain": [
       "    regression_model  R2_score Root_Mean_Squared_error\n",
       "0  linear regression  0.751442                 3.85011"
      ]
     },
     "execution_count": 25,
     "metadata": {},
     "output_type": "execute_result"
    }
   ],
   "source": [
    "#evaluate the model\n",
    "\n",
    "r2 = r2_score(y_test, y_pred_lr)\n",
    "rmse = (np.sqrt(mean_squared_error(y_test, y_pred_lr)))\n",
    "lr_reg = pd.DataFrame([\"linear regression\", r2, rmse]).transpose()\n",
    "lr_reg.columns=[\"regression_model\", \"R2_score\", \"Root_Mean_Squared_error\"]\n",
    "lr_reg"
   ]
  },
  {
   "cell_type": "markdown",
   "id": "0ae68cc0",
   "metadata": {
    "papermill": {
     "duration": 0.025827,
     "end_time": "2022-10-14T15:55:08.895776",
     "exception": false,
     "start_time": "2022-10-14T15:55:08.869949",
     "status": "completed"
    },
    "tags": []
   },
   "source": [
    "# **Lasso Regression**"
   ]
  },
  {
   "cell_type": "code",
   "execution_count": 26,
   "id": "89c3dae2",
   "metadata": {
    "execution": {
     "iopub.execute_input": "2022-10-14T15:55:08.950220Z",
     "iopub.status.busy": "2022-10-14T15:55:08.949771Z",
     "iopub.status.idle": "2022-10-14T15:55:08.960212Z",
     "shell.execute_reply": "2022-10-14T15:55:08.959049Z"
    },
    "papermill": {
     "duration": 0.040712,
     "end_time": "2022-10-14T15:55:08.962601",
     "exception": false,
     "start_time": "2022-10-14T15:55:08.921889",
     "status": "completed"
    },
    "tags": []
   },
   "outputs": [
    {
     "data": {
      "text/plain": [
       "Lasso()"
      ]
     },
     "execution_count": 26,
     "metadata": {},
     "output_type": "execute_result"
    }
   ],
   "source": [
    "#fitting the lasso model\n",
    "lasso = Lasso(alpha = 1.0)\n",
    "lasso.fit(x_train, y_train)"
   ]
  },
  {
   "cell_type": "code",
   "execution_count": 27,
   "id": "a7c5c7f1",
   "metadata": {
    "execution": {
     "iopub.execute_input": "2022-10-14T15:55:09.017233Z",
     "iopub.status.busy": "2022-10-14T15:55:09.016274Z",
     "iopub.status.idle": "2022-10-14T15:55:09.024777Z",
     "shell.execute_reply": "2022-10-14T15:55:09.023490Z"
    },
    "papermill": {
     "duration": 0.038508,
     "end_time": "2022-10-14T15:55:09.027277",
     "exception": false,
     "start_time": "2022-10-14T15:55:08.988769",
     "status": "completed"
    },
    "tags": []
   },
   "outputs": [
    {
     "data": {
      "text/plain": [
       "array([64.3565486 , 60.58923748, 50.89867193, 49.13066744, 57.38846373,\n",
       "       53.43261698, 49.60205638, 68.01624222, 61.93088964, 62.8941423 ,\n",
       "       47.30269775, 63.92498342, 50.60248747, 43.42113771, 52.6663864 ,\n",
       "       57.03335084, 43.40020886, 52.64656083, 65.63572028, 55.38701616,\n",
       "       51.11020714, 53.6504821 , 53.33948082, 54.68018701, 56.64320368,\n",
       "       41.44771803, 61.34300197])"
      ]
     },
     "execution_count": 27,
     "metadata": {},
     "output_type": "execute_result"
    }
   ],
   "source": [
    "#predict with lasso\n",
    "y_pred_las = lasso.predict(x_test)\n",
    "y_pred_las"
   ]
  },
  {
   "cell_type": "code",
   "execution_count": 28,
   "id": "43fe2929",
   "metadata": {
    "execution": {
     "iopub.execute_input": "2022-10-14T15:55:09.081256Z",
     "iopub.status.busy": "2022-10-14T15:55:09.080810Z",
     "iopub.status.idle": "2022-10-14T15:55:09.086963Z",
     "shell.execute_reply": "2022-10-14T15:55:09.085712Z"
    },
    "papermill": {
     "duration": 0.036691,
     "end_time": "2022-10-14T15:55:09.090153",
     "exception": false,
     "start_time": "2022-10-14T15:55:09.053462",
     "status": "completed"
    },
    "tags": []
   },
   "outputs": [
    {
     "name": "stdout",
     "output_type": "stream",
     "text": [
      "slope: 0.37\n",
      "intercept: 25.16\n"
     ]
    }
   ],
   "source": [
    "#calcaluation of coeff. and intercept respectively \n",
    "print(\"slope: %.2f\" % lasso.coef_[0])\n",
    "print(\"intercept: %.2f\" % lasso.intercept_)"
   ]
  },
  {
   "cell_type": "code",
   "execution_count": 29,
   "id": "80a91de2",
   "metadata": {
    "execution": {
     "iopub.execute_input": "2022-10-14T15:55:09.144065Z",
     "iopub.status.busy": "2022-10-14T15:55:09.143620Z",
     "iopub.status.idle": "2022-10-14T15:55:09.355075Z",
     "shell.execute_reply": "2022-10-14T15:55:09.354019Z"
    },
    "papermill": {
     "duration": 0.24133,
     "end_time": "2022-10-14T15:55:09.357550",
     "exception": false,
     "start_time": "2022-10-14T15:55:09.116220",
     "status": "completed"
    },
    "tags": []
   },
   "outputs": [
    {
     "data": {
      "image/png": "[encoded data removed]",
      "text/plain": [
       "<Figure size 432x288 with 1 Axes>"
      ]
     },
     "metadata": {
      "needs_background": "light"
     },
     "output_type": "display_data"
    }
   ],
   "source": [
    "#visualize the result without regression line first\n",
    "plt.scatter(y_test, y_pred_las)\n",
    "plt.title(\"Lasso Regression  result\", size = 20)\n",
    "plt.xlabel(\"Actual\")\n",
    "plt.ylabel(\"Predicted\")\n",
    "plt.show()"
   ]
  },
  {
   "cell_type": "code",
   "execution_count": 30,
   "id": "ac192d6e",
   "metadata": {
    "execution": {
     "iopub.execute_input": "2022-10-14T15:55:09.412433Z",
     "iopub.status.busy": "2022-10-14T15:55:09.412050Z",
     "iopub.status.idle": "2022-10-14T15:55:09.638311Z",
     "shell.execute_reply": "2022-10-14T15:55:09.637103Z"
    },
    "papermill": {
     "duration": 0.257185,
     "end_time": "2022-10-14T15:55:09.641184",
     "exception": false,
     "start_time": "2022-10-14T15:55:09.383999",
     "status": "completed"
    },
    "tags": []
   },
   "outputs": [
    {
     "data": {
      "image/png": "[encoded data removed]",
      "text/plain": [
       "<Figure size 432x288 with 1 Axes>"
      ]
     },
     "metadata": {
      "needs_background": "light"
     },
     "output_type": "display_data"
    }
   ],
   "source": [
    "#Now visualize the result with regressio line\n",
    "sns.regplot(x=y_test, y= y_pred_las, ci= None , color = \"black\")\n",
    "plt.title(\"Lasso Regression  result\", size = 20)\n",
    "plt.xlabel(\"Actual\")\n",
    "plt.ylabel(\"Predicted\")\n",
    "plt.show()"
   ]
  },
  {
   "cell_type": "code",
   "execution_count": 31,
   "id": "8f2ab66f",
   "metadata": {
    "execution": {
     "iopub.execute_input": "2022-10-14T15:55:09.698689Z",
     "iopub.status.busy": "2022-10-14T15:55:09.697756Z",
     "iopub.status.idle": "2022-10-14T15:55:09.711402Z",
     "shell.execute_reply": "2022-10-14T15:55:09.710608Z"
    },
    "papermill": {
     "duration": 0.044273,
     "end_time": "2022-10-14T15:55:09.713537",
     "exception": false,
     "start_time": "2022-10-14T15:55:09.669264",
     "status": "completed"
    },
    "tags": []
   },
   "outputs": [
    {
     "data": {
      "text/html": [
       "<div>\n",
       "<style scoped>\n",
       "    .dataframe tbody tr th:only-of-type {\n",
       "        vertical-align: middle;\n",
       "    }\n",
       "\n",
       "    .dataframe tbody tr th {\n",
       "        vertical-align: top;\n",
       "    }\n",
       "\n",
       "    .dataframe thead th {\n",
       "        text-align: right;\n",
       "    }\n",
       "</style>\n",
       "<table border=\"1\" class=\"dataframe\">\n",
       "  <thead>\n",
       "    <tr style=\"text-align: right;\">\n",
       "      <th></th>\n",
       "      <th>regression_model</th>\n",
       "      <th>R2_score</th>\n",
       "      <th>Root_Mean_Squared_error</th>\n",
       "    </tr>\n",
       "  </thead>\n",
       "  <tbody>\n",
       "    <tr>\n",
       "      <th>0</th>\n",
       "      <td>Lass_regression</td>\n",
       "      <td>0.703028</td>\n",
       "      <td>4.208401</td>\n",
       "    </tr>\n",
       "  </tbody>\n",
       "</table>\n",
       "</div>"
      ],
      "text/plain": [
       "   regression_model  R2_score Root_Mean_Squared_error\n",
       "0  Lass_regression   0.703028                4.208401"
      ]
     },
     "execution_count": 31,
     "metadata": {},
     "output_type": "execute_result"
    }
   ],
   "source": [
    "#evaluate the model \n",
    "\n",
    "r2 = r2_score(y_test, y_pred_las)\n",
    "rmse =(np.sqrt(mean_squared_error(y_test, y_pred_las)))\n",
    "las_reg = pd.DataFrame([\"Lass_regression \", r2, rmse]).transpose()\n",
    "las_reg.columns = [\"regression_model\", \"R2_score\", \"Root_Mean_Squared_error\"]\n",
    "las_reg"
   ]
  },
  {
   "cell_type": "markdown",
   "id": "b64d3920",
   "metadata": {
    "papermill": {
     "duration": 0.027135,
     "end_time": "2022-10-14T15:55:09.767786",
     "exception": false,
     "start_time": "2022-10-14T15:55:09.740651",
     "status": "completed"
    },
    "tags": []
   },
   "source": [
    "# **Ridge Regression**"
   ]
  },
  {
   "cell_type": "code",
   "execution_count": 32,
   "id": "d39cb629",
   "metadata": {
    "execution": {
     "iopub.execute_input": "2022-10-14T15:55:09.824606Z",
     "iopub.status.busy": "2022-10-14T15:55:09.824226Z",
     "iopub.status.idle": "2022-10-14T15:55:09.938623Z",
     "shell.execute_reply": "2022-10-14T15:55:09.937063Z"
    },
    "papermill": {
     "duration": 0.145437,
     "end_time": "2022-10-14T15:55:09.940792",
     "exception": true,
     "start_time": "2022-10-14T15:55:09.795355",
     "status": "failed"
    },
    "tags": []
   },
   "outputs": [
    {
     "ename": "NameError",
     "evalue": "name 'ridge' is not defined",
     "output_type": "error",
     "traceback": [
      "\u001b[0;31m---------------------------------------------------------------------------\u001b[0m",
      "\u001b[0;31mNameError\u001b[0m                                 Traceback (most recent call last)",
      "\u001b[0;32m/tmp/ipykernel_19/3903869277.py\u001b[0m in \u001b[0;36m<module>\u001b[0;34m\u001b[0m\n\u001b[1;32m      1\u001b[0m \u001b[0;31m#predict with ridge\u001b[0m\u001b[0;34m\u001b[0m\u001b[0;34m\u001b[0m\u001b[0;34m\u001b[0m\u001b[0m\n\u001b[0;32m----> 2\u001b[0;31m \u001b[0my_pred_r\u001b[0m \u001b[0;34m=\u001b[0m \u001b[0mridge\u001b[0m\u001b[0;34m.\u001b[0m\u001b[0mpredict\u001b[0m\u001b[0;34m(\u001b[0m\u001b[0mx_test\u001b[0m\u001b[0;34m)\u001b[0m\u001b[0;34m\u001b[0m\u001b[0;34m\u001b[0m\u001b[0m\n\u001b[0m\u001b[1;32m      3\u001b[0m \u001b[0mprint\u001b[0m\u001b[0;34m(\u001b[0m\u001b[0my_pred_r\u001b[0m\u001b[0;34m)\u001b[0m\u001b[0;34m\u001b[0m\u001b[0;34m\u001b[0m\u001b[0m\n",
      "\u001b[0;31mNameError\u001b[0m: name 'ridge' is not defined"
     ]
    }
   ],
   "source": [
    "#predict with ridge\n",
    "y_pred_r = ridge.predict(x_test)\n",
    "print(y_pred_r)"
   ]
  },
  {
   "cell_type": "code",
   "execution_count": null,
   "id": "507d9b62",
   "metadata": {
    "execution": {
     "iopub.execute_input": "2022-10-14T15:51:42.696214Z",
     "iopub.status.busy": "2022-10-14T15:51:42.695317Z",
     "iopub.status.idle": "2022-10-14T15:51:42.706473Z",
     "shell.execute_reply": "2022-10-14T15:51:42.705784Z",
     "shell.execute_reply.started": "2022-10-14T15:51:42.696179Z"
    },
    "papermill": {
     "duration": null,
     "end_time": null,
     "exception": null,
     "start_time": null,
     "status": "pending"
    },
    "tags": []
   },
   "outputs": [],
   "source": [
    "#fitting the ridge model\n",
    "ridge = Ridge(alpha = 1.0)\n",
    "ridge.fit(x_train, y_train)"
   ]
  },
  {
   "cell_type": "code",
   "execution_count": null,
   "id": "07e1979e",
   "metadata": {
    "execution": {
     "iopub.execute_input": "2022-10-14T15:51:42.708417Z",
     "iopub.status.busy": "2022-10-14T15:51:42.707403Z",
     "iopub.status.idle": "2022-10-14T15:51:42.853638Z",
     "shell.execute_reply": "2022-10-14T15:51:42.852960Z",
     "shell.execute_reply.started": "2022-10-14T15:51:42.708353Z"
    },
    "papermill": {
     "duration": null,
     "end_time": null,
     "exception": null,
     "start_time": null,
     "status": "pending"
    },
    "tags": []
   },
   "outputs": [],
   "source": [
    "#visualize the result without regression line fist\n",
    "plt.scatter(y_test, y_pred_r)\n",
    "plt.title(\"Ridge Regression  result\", size = 20)\n",
    "plt.xlabel(\"Actual\")\n",
    "plt.ylabel(\"Predicted\")\n",
    "plt.show()"
   ]
  },
  {
   "cell_type": "code",
   "execution_count": null,
   "id": "9916b70f",
   "metadata": {
    "execution": {
     "iopub.execute_input": "2022-10-14T15:51:42.855751Z",
     "iopub.status.busy": "2022-10-14T15:51:42.854743Z",
     "iopub.status.idle": "2022-10-14T15:51:43.009809Z",
     "shell.execute_reply": "2022-10-14T15:51:43.008932Z",
     "shell.execute_reply.started": "2022-10-14T15:51:42.855714Z"
    },
    "papermill": {
     "duration": null,
     "end_time": null,
     "exception": null,
     "start_time": null,
     "status": "pending"
    },
    "tags": []
   },
   "outputs": [],
   "source": [
    "#Now visualize the data with regression line \n",
    "sns.regplot(x= y_test,  y= y_pred_r, ci= None , color =\"red\")\n",
    "plt.title(\"Ridge Regression  result\", size = 20)\n",
    "plt.xlabel(\"Actual\")\n",
    "plt.ylabel(\"Predicted\")\n",
    "plt.show()"
   ]
  },
  {
   "cell_type": "code",
   "execution_count": null,
   "id": "d1249066",
   "metadata": {
    "execution": {
     "iopub.execute_input": "2022-10-14T15:51:43.011196Z",
     "iopub.status.busy": "2022-10-14T15:51:43.010964Z",
     "iopub.status.idle": "2022-10-14T15:51:43.024873Z",
     "shell.execute_reply": "2022-10-14T15:51:43.023693Z",
     "shell.execute_reply.started": "2022-10-14T15:51:43.011173Z"
    },
    "papermill": {
     "duration": null,
     "end_time": null,
     "exception": null,
     "start_time": null,
     "status": "pending"
    },
    "tags": []
   },
   "outputs": [],
   "source": [
    "#evaluate the model\n",
    "\n",
    "r2 = r2_score(y_test, y_pred_r)\n",
    "rmse = np.sqrt(mean_squared_error(y_test, y_pred_r))\n",
    "ridge_reg = pd.DataFrame([\"Ridge_regression\", r2, rmse]).transpose()\n",
    "ridge_reg.columns = [\"regression_model\", \"R2_score\", \"Root_Mean_Squared_error\"]\n",
    "ridge_reg"
   ]
  },
  {
   "cell_type": "markdown",
   "id": "4ed963a7",
   "metadata": {
    "papermill": {
     "duration": null,
     "end_time": null,
     "exception": null,
     "start_time": null,
     "status": "pending"
    },
    "tags": []
   },
   "source": [
    "# **Decision Tree Model**"
   ]
  },
  {
   "cell_type": "code",
   "execution_count": null,
   "id": "e09276c3",
   "metadata": {
    "execution": {
     "iopub.execute_input": "2022-10-14T15:51:43.026415Z",
     "iopub.status.busy": "2022-10-14T15:51:43.026143Z",
     "iopub.status.idle": "2022-10-14T15:51:43.036116Z",
     "shell.execute_reply": "2022-10-14T15:51:43.035105Z",
     "shell.execute_reply.started": "2022-10-14T15:51:43.026367Z"
    },
    "papermill": {
     "duration": null,
     "end_time": null,
     "exception": null,
     "start_time": null,
     "status": "pending"
    },
    "tags": []
   },
   "outputs": [],
   "source": [
    "#fitting Decision Tree Model\n",
    "dec_tmodel = tree.DecisionTreeRegressor()\n",
    "dec_tmodel.fit(x_train, y_train)"
   ]
  },
  {
   "cell_type": "code",
   "execution_count": null,
   "id": "1abc4b7c",
   "metadata": {
    "execution": {
     "iopub.execute_input": "2022-10-14T15:51:43.037250Z",
     "iopub.status.busy": "2022-10-14T15:51:43.036951Z",
     "iopub.status.idle": "2022-10-14T15:51:43.047237Z",
     "shell.execute_reply": "2022-10-14T15:51:43.045955Z",
     "shell.execute_reply.started": "2022-10-14T15:51:43.037219Z"
    },
    "papermill": {
     "duration": null,
     "end_time": null,
     "exception": null,
     "start_time": null,
     "status": "pending"
    },
    "tags": []
   },
   "outputs": [],
   "source": [
    "#predict with the decision tree regressor\n",
    "y_pred_dtr = dec_tmodel.predict(x_test)\n",
    "print(y_pred_dtr)"
   ]
  },
  {
   "cell_type": "code",
   "execution_count": null,
   "id": "a51b5fc0",
   "metadata": {
    "execution": {
     "iopub.execute_input": "2022-10-14T15:51:43.049403Z",
     "iopub.status.busy": "2022-10-14T15:51:43.049063Z",
     "iopub.status.idle": "2022-10-14T15:51:43.199865Z",
     "shell.execute_reply": "2022-10-14T15:51:43.198602Z",
     "shell.execute_reply.started": "2022-10-14T15:51:43.049372Z"
    },
    "papermill": {
     "duration": null,
     "end_time": null,
     "exception": null,
     "start_time": null,
     "status": "pending"
    },
    "tags": []
   },
   "outputs": [],
   "source": [
    "#visualize the result without regression line first\n",
    "plt.scatter(y_test, y_pred_dtr)\n",
    "plt.title(\"Decision Tree Model  result\", size = 20)\n",
    "plt.xlabel(\"Actual\")\n",
    "plt.ylabel(\"Predicted\")\n",
    "plt.show()"
   ]
  },
  {
   "cell_type": "code",
   "execution_count": null,
   "id": "9833b874",
   "metadata": {
    "execution": {
     "iopub.execute_input": "2022-10-14T15:51:43.201299Z",
     "iopub.status.busy": "2022-10-14T15:51:43.201054Z",
     "iopub.status.idle": "2022-10-14T15:51:43.360098Z",
     "shell.execute_reply": "2022-10-14T15:51:43.358735Z",
     "shell.execute_reply.started": "2022-10-14T15:51:43.201276Z"
    },
    "papermill": {
     "duration": null,
     "end_time": null,
     "exception": null,
     "start_time": null,
     "status": "pending"
    },
    "tags": []
   },
   "outputs": [],
   "source": [
    "#Now visualize the result with regression line \n",
    "sns.regplot(x = y_test, y= y_pred_dtr, ci = None, color = \"orange\")\n",
    "plt.title(\"Decision Tree Model  result\", size = 20)\n",
    "plt.xlabel(\"Actual\")\n",
    "plt.ylabel(\"Predicted\")\n",
    "plt.show()"
   ]
  },
  {
   "cell_type": "code",
   "execution_count": null,
   "id": "7839f508",
   "metadata": {
    "execution": {
     "iopub.execute_input": "2022-10-14T15:51:43.361917Z",
     "iopub.status.busy": "2022-10-14T15:51:43.361594Z",
     "iopub.status.idle": "2022-10-14T15:51:43.375115Z",
     "shell.execute_reply": "2022-10-14T15:51:43.373853Z",
     "shell.execute_reply.started": "2022-10-14T15:51:43.361870Z"
    },
    "papermill": {
     "duration": null,
     "end_time": null,
     "exception": null,
     "start_time": null,
     "status": "pending"
    },
    "tags": []
   },
   "outputs": [],
   "source": [
    "#evaluate the model\n",
    "r2 =(r2_score(y_test, y_pred_dtr))\n",
    "rmse =(np.sqrt(mean_squared_error(y_test, y_pred_dtr)))\n",
    "dtr_reg = pd.DataFrame([\"Decision_Tree_Regression\", r2, rmse]).transpose()\n",
    "dtr_reg.columns = [\"regression_model\", \"R2_score\", \"Root_Mean_Squared_error\"]\n",
    "dtr_reg"
   ]
  },
  {
   "cell_type": "markdown",
   "id": "bdcaee6d",
   "metadata": {
    "papermill": {
     "duration": null,
     "end_time": null,
     "exception": null,
     "start_time": null,
     "status": "pending"
    },
    "tags": []
   },
   "source": [
    "# **Random Forest Regression**"
   ]
  },
  {
   "cell_type": "code",
   "execution_count": null,
   "id": "e74dc5bc",
   "metadata": {
    "execution": {
     "iopub.execute_input": "2022-10-14T15:51:43.376660Z",
     "iopub.status.busy": "2022-10-14T15:51:43.376394Z",
     "iopub.status.idle": "2022-10-14T15:51:43.505306Z",
     "shell.execute_reply": "2022-10-14T15:51:43.503945Z",
     "shell.execute_reply.started": "2022-10-14T15:51:43.376636Z"
    },
    "papermill": {
     "duration": null,
     "end_time": null,
     "exception": null,
     "start_time": null,
     "status": "pending"
    },
    "tags": []
   },
   "outputs": [],
   "source": [
    "#fitting the Random Forest Regressor\n",
    "reg = RandomForestRegressor(n_estimators = 100, random_state = 0)\n",
    "reg.fit(x_train, y_train)"
   ]
  },
  {
   "cell_type": "code",
   "execution_count": null,
   "id": "d34d8e5c",
   "metadata": {
    "execution": {
     "iopub.execute_input": "2022-10-14T15:51:43.506928Z",
     "iopub.status.busy": "2022-10-14T15:51:43.506626Z",
     "iopub.status.idle": "2022-10-14T15:51:43.527301Z",
     "shell.execute_reply": "2022-10-14T15:51:43.526182Z",
     "shell.execute_reply.started": "2022-10-14T15:51:43.506882Z"
    },
    "papermill": {
     "duration": null,
     "end_time": null,
     "exception": null,
     "start_time": null,
     "status": "pending"
    },
    "tags": []
   },
   "outputs": [],
   "source": [
    "#predict with random forest model\n",
    "y_pred_rand = reg.predict(x_test)\n",
    "y_pred_rand"
   ]
  },
  {
   "cell_type": "code",
   "execution_count": null,
   "id": "48b71dec",
   "metadata": {
    "execution": {
     "iopub.execute_input": "2022-10-14T15:51:43.529541Z",
     "iopub.status.busy": "2022-10-14T15:51:43.528923Z",
     "iopub.status.idle": "2022-10-14T15:51:43.684639Z",
     "shell.execute_reply": "2022-10-14T15:51:43.683772Z",
     "shell.execute_reply.started": "2022-10-14T15:51:43.529506Z"
    },
    "papermill": {
     "duration": null,
     "end_time": null,
     "exception": null,
     "start_time": null,
     "status": "pending"
    },
    "tags": []
   },
   "outputs": [],
   "source": [
    "#visualize the result without regression line first\n",
    "plt.scatter(y_test, y_pred_rand)\n",
    "plt.title(\"Random Forest Regression  result\", size = 20)\n",
    "plt.xlabel(\"Actual\")\n",
    "plt.ylabel(\"Predicted\")\n",
    "plt.show()"
   ]
  },
  {
   "cell_type": "code",
   "execution_count": null,
   "id": "a63ae6b1",
   "metadata": {
    "execution": {
     "iopub.execute_input": "2022-10-14T15:51:43.686074Z",
     "iopub.status.busy": "2022-10-14T15:51:43.685778Z",
     "iopub.status.idle": "2022-10-14T15:51:43.844403Z",
     "shell.execute_reply": "2022-10-14T15:51:43.843394Z",
     "shell.execute_reply.started": "2022-10-14T15:51:43.686045Z"
    },
    "papermill": {
     "duration": null,
     "end_time": null,
     "exception": null,
     "start_time": null,
     "status": "pending"
    },
    "tags": []
   },
   "outputs": [],
   "source": [
    "#Now visualize the result with regression line \n",
    "sns.regplot(x= y_test, y = y_pred_rand, ci = None, color = \"pink\")\n",
    "plt.title(\"Random Forest Regression  result\", size = 20)\n",
    "plt.xlabel(\"Actual\")\n",
    "plt.ylabel(\"Predicted\")\n",
    "plt.show()"
   ]
  },
  {
   "cell_type": "code",
   "execution_count": null,
   "id": "4317b59f",
   "metadata": {
    "execution": {
     "iopub.execute_input": "2022-10-14T15:51:43.846201Z",
     "iopub.status.busy": "2022-10-14T15:51:43.845960Z",
     "iopub.status.idle": "2022-10-14T15:51:43.857017Z",
     "shell.execute_reply": "2022-10-14T15:51:43.856354Z",
     "shell.execute_reply.started": "2022-10-14T15:51:43.846178Z"
    },
    "papermill": {
     "duration": null,
     "end_time": null,
     "exception": null,
     "start_time": null,
     "status": "pending"
    },
    "tags": []
   },
   "outputs": [],
   "source": [
    "#now evaluating the model\n",
    "r2=r2_score(y_test, y_pred_rand)\n",
    "rmse=(np.sqrt(mean_squared_error(y_test, y_pred_rand)))\n",
    "rand_reg = pd.DataFrame([\"Random Forest \", r2, rmse]).transpose()\n",
    "rand_reg.columns = [\"regression_model\", \"R2_score\", \"Root_Mean_Squared_error\"]\n",
    "rand_reg"
   ]
  },
  {
   "cell_type": "markdown",
   "id": "17faab87",
   "metadata": {
    "papermill": {
     "duration": null,
     "end_time": null,
     "exception": null,
     "start_time": null,
     "status": "pending"
    },
    "tags": []
   },
   "source": [
    "# **ElasticNet Regression**"
   ]
  },
  {
   "cell_type": "code",
   "execution_count": null,
   "id": "f9e78b1b",
   "metadata": {
    "execution": {
     "iopub.execute_input": "2022-10-14T15:51:43.858485Z",
     "iopub.status.busy": "2022-10-14T15:51:43.858248Z",
     "iopub.status.idle": "2022-10-14T15:51:43.873078Z",
     "shell.execute_reply": "2022-10-14T15:51:43.872105Z",
     "shell.execute_reply.started": "2022-10-14T15:51:43.858462Z"
    },
    "papermill": {
     "duration": null,
     "end_time": null,
     "exception": null,
     "start_time": null,
     "status": "pending"
    },
    "tags": []
   },
   "outputs": [],
   "source": [
    "#fitting the ElasticNet regression\n",
    "reg_elas = ElasticNet(alpha = 0.1)\n",
    "reg_elas.fit(x_train, y_train)"
   ]
  },
  {
   "cell_type": "code",
   "execution_count": null,
   "id": "06b56c7d",
   "metadata": {
    "execution": {
     "iopub.execute_input": "2022-10-14T15:51:43.874917Z",
     "iopub.status.busy": "2022-10-14T15:51:43.874508Z",
     "iopub.status.idle": "2022-10-14T15:51:43.881550Z",
     "shell.execute_reply": "2022-10-14T15:51:43.880130Z",
     "shell.execute_reply.started": "2022-10-14T15:51:43.874866Z"
    },
    "papermill": {
     "duration": null,
     "end_time": null,
     "exception": null,
     "start_time": null,
     "status": "pending"
    },
    "tags": []
   },
   "outputs": [],
   "source": [
    "#prdict with the elasticnet regressor\n",
    "y_pred_elas = reg_elas.predict(x_test)\n",
    "print(y_pred_elas)"
   ]
  },
  {
   "cell_type": "code",
   "execution_count": null,
   "id": "f0242d11",
   "metadata": {
    "execution": {
     "iopub.execute_input": "2022-10-14T15:51:43.883771Z",
     "iopub.status.busy": "2022-10-14T15:51:43.883356Z",
     "iopub.status.idle": "2022-10-14T15:51:44.029793Z",
     "shell.execute_reply": "2022-10-14T15:51:44.028536Z",
     "shell.execute_reply.started": "2022-10-14T15:51:43.883734Z"
    },
    "papermill": {
     "duration": null,
     "end_time": null,
     "exception": null,
     "start_time": null,
     "status": "pending"
    },
    "tags": []
   },
   "outputs": [],
   "source": [
    "#visualize the result without regression line first\n",
    "plt.scatter(y_test, y_pred_elas)\n",
    "plt.title(\"ElasticNet Regression  result\", size = 20)\n",
    "plt.xlabel(\"Actual\")\n",
    "plt.ylabel(\"Predicted\")\n",
    "plt.show()"
   ]
  },
  {
   "cell_type": "code",
   "execution_count": null,
   "id": "8fb59fd3",
   "metadata": {
    "execution": {
     "iopub.execute_input": "2022-10-14T15:51:44.032334Z",
     "iopub.status.busy": "2022-10-14T15:51:44.031628Z",
     "iopub.status.idle": "2022-10-14T15:51:44.189788Z",
     "shell.execute_reply": "2022-10-14T15:51:44.188344Z",
     "shell.execute_reply.started": "2022-10-14T15:51:44.032296Z"
    },
    "papermill": {
     "duration": null,
     "end_time": null,
     "exception": null,
     "start_time": null,
     "status": "pending"
    },
    "tags": []
   },
   "outputs": [],
   "source": [
    "#Now visualize the result with regression line\n",
    "sns.regplot(x= y_test, y= y_pred_elas, ci = None , color = \"blue\")\n",
    "plt.title(\"ElasticNet Regression  result\", size = 20)\n",
    "plt.xlabel(\"Actual\")\n",
    "plt.ylabel(\"Predicted\")\n",
    "plt.show()"
   ]
  },
  {
   "cell_type": "code",
   "execution_count": null,
   "id": "d420cb76",
   "metadata": {
    "execution": {
     "iopub.execute_input": "2022-10-14T15:51:44.191477Z",
     "iopub.status.busy": "2022-10-14T15:51:44.191163Z",
     "iopub.status.idle": "2022-10-14T15:51:44.206431Z",
     "shell.execute_reply": "2022-10-14T15:51:44.205193Z",
     "shell.execute_reply.started": "2022-10-14T15:51:44.191444Z"
    },
    "papermill": {
     "duration": null,
     "end_time": null,
     "exception": null,
     "start_time": null,
     "status": "pending"
    },
    "tags": []
   },
   "outputs": [],
   "source": [
    "#evaluate the model \n",
    "r2 = r2_score(y_test, y_pred_elas)\n",
    "rmse = np.sqrt(mean_squared_error(y_test, y_pred_elas))\n",
    "elas_reg = pd.DataFrame([\"ElasticNet\", r2, rmse]).transpose()\n",
    "elas_reg.columns= [\"regression_model\", \"R2_score\", \"Root_Mean_Squared_error\"]\n",
    "elas_reg"
   ]
  },
  {
   "cell_type": "code",
   "execution_count": null,
   "id": "de3b7d13",
   "metadata": {
    "execution": {
     "iopub.execute_input": "2022-10-14T15:51:44.209704Z",
     "iopub.status.busy": "2022-10-14T15:51:44.209365Z",
     "iopub.status.idle": "2022-10-14T15:51:44.216540Z",
     "shell.execute_reply": "2022-10-14T15:51:44.215407Z",
     "shell.execute_reply.started": "2022-10-14T15:51:44.209674Z"
    },
    "papermill": {
     "duration": null,
     "end_time": null,
     "exception": null,
     "start_time": null,
     "status": "pending"
    },
    "tags": []
   },
   "outputs": [],
   "source": [
    "# lastly, let's split the datast into categorized train and test data form \n",
    "x_train, x_test, y_train, y_test = train_test_split(x, y_cat, test_size = 0.2, random_state = 0)"
   ]
  },
  {
   "cell_type": "markdown",
   "id": "07ef5e35",
   "metadata": {
    "papermill": {
     "duration": null,
     "end_time": null,
     "exception": null,
     "start_time": null,
     "status": "pending"
    },
    "tags": []
   },
   "source": [
    "# **Logistic Regression**"
   ]
  },
  {
   "cell_type": "code",
   "execution_count": null,
   "id": "571e9262",
   "metadata": {
    "execution": {
     "iopub.execute_input": "2022-10-14T15:51:44.218194Z",
     "iopub.status.busy": "2022-10-14T15:51:44.217868Z",
     "iopub.status.idle": "2022-10-14T15:51:44.283839Z",
     "shell.execute_reply": "2022-10-14T15:51:44.282719Z",
     "shell.execute_reply.started": "2022-10-14T15:51:44.218164Z"
    },
    "papermill": {
     "duration": null,
     "end_time": null,
     "exception": null,
     "start_time": null,
     "status": "pending"
    },
    "tags": []
   },
   "outputs": [],
   "source": [
    "#fitting the Logistic Regression\n",
    "logisticreg = LogisticRegression()\n",
    "logisticreg.fit(x_train, y_train)"
   ]
  },
  {
   "cell_type": "code",
   "execution_count": null,
   "id": "ee7c13bf",
   "metadata": {
    "execution": {
     "iopub.execute_input": "2022-10-14T15:51:44.285377Z",
     "iopub.status.busy": "2022-10-14T15:51:44.285093Z",
     "iopub.status.idle": "2022-10-14T15:51:44.290931Z",
     "shell.execute_reply": "2022-10-14T15:51:44.290301Z",
     "shell.execute_reply.started": "2022-10-14T15:51:44.285350Z"
    },
    "papermill": {
     "duration": null,
     "end_time": null,
     "exception": null,
     "start_time": null,
     "status": "pending"
    },
    "tags": []
   },
   "outputs": [],
   "source": [
    "\n",
    "#predict wtih the logistic regression\n",
    "y_pred_logr = logisticreg.predict(x_test)\n",
    "y_pred_logr"
   ]
  },
  {
   "cell_type": "code",
   "execution_count": null,
   "id": "1dd92dab",
   "metadata": {
    "execution": {
     "iopub.execute_input": "2022-10-14T15:51:44.292209Z",
     "iopub.status.busy": "2022-10-14T15:51:44.291960Z",
     "iopub.status.idle": "2022-10-14T15:51:44.437823Z",
     "shell.execute_reply": "2022-10-14T15:51:44.437018Z",
     "shell.execute_reply.started": "2022-10-14T15:51:44.292186Z"
    },
    "papermill": {
     "duration": null,
     "end_time": null,
     "exception": null,
     "start_time": null,
     "status": "pending"
    },
    "tags": []
   },
   "outputs": [],
   "source": [
    "#visualize the result without the regression line first\n",
    "plt.scatter(y_test, y_pred_logr)\n",
    "plt.title(\"Logistic Regression  result\", size = 20)\n",
    "plt.xlabel(\"Actual\")\n",
    "plt.ylabel(\"Predicted\")\n",
    "plt.show()"
   ]
  },
  {
   "cell_type": "code",
   "execution_count": null,
   "id": "eb8788a1",
   "metadata": {
    "execution": {
     "iopub.execute_input": "2022-10-14T15:51:44.439371Z",
     "iopub.status.busy": "2022-10-14T15:51:44.438991Z",
     "iopub.status.idle": "2022-10-14T15:51:44.580813Z",
     "shell.execute_reply": "2022-10-14T15:51:44.580147Z",
     "shell.execute_reply.started": "2022-10-14T15:51:44.439348Z"
    },
    "papermill": {
     "duration": null,
     "end_time": null,
     "exception": null,
     "start_time": null,
     "status": "pending"
    },
    "tags": []
   },
   "outputs": [],
   "source": [
    "#Now visualize the result with the regression line \n",
    "sns.regplot(x= y_test, y= y_pred_logr, ci = None , color = \"skyblue\")\n",
    "plt.title(\"Logistic Regression  result\", size = 20)\n",
    "plt.xlabel(\"Actual\")\n",
    "plt.ylabel(\"Predicted\")\n",
    "plt.show()"
   ]
  },
  {
   "cell_type": "code",
   "execution_count": null,
   "id": "b90c796d",
   "metadata": {
    "execution": {
     "iopub.execute_input": "2022-10-14T15:51:44.582405Z",
     "iopub.status.busy": "2022-10-14T15:51:44.581998Z",
     "iopub.status.idle": "2022-10-14T15:51:44.594180Z",
     "shell.execute_reply": "2022-10-14T15:51:44.593120Z",
     "shell.execute_reply.started": "2022-10-14T15:51:44.582381Z"
    },
    "papermill": {
     "duration": null,
     "end_time": null,
     "exception": null,
     "start_time": null,
     "status": "pending"
    },
    "tags": []
   },
   "outputs": [],
   "source": [
    "#determine the accuracy of the model\n",
    "r2 = (r2_score(y_test, y_pred_logr))\n",
    "rmse =(np.sqrt(mean_squared_error(y_test, y_pred_logr)))\n",
    "log_reg = pd.DataFrame([\"Logistic Regression\", r2, rmse]).transpose()\n",
    "log_reg.columns = [\"regression_model\", \"R2_score\", \"Root_Mean_Squared_error\"]\n",
    "log_reg"
   ]
  },
  {
   "cell_type": "markdown",
   "id": "620f023c",
   "metadata": {
    "papermill": {
     "duration": null,
     "end_time": null,
     "exception": null,
     "start_time": null,
     "status": "pending"
    },
    "tags": []
   },
   "source": [
    "# **Gaussain Regression**"
   ]
  },
  {
   "cell_type": "code",
   "execution_count": null,
   "id": "d292b781",
   "metadata": {
    "execution": {
     "iopub.execute_input": "2022-10-14T15:51:44.596159Z",
     "iopub.status.busy": "2022-10-14T15:51:44.595335Z",
     "iopub.status.idle": "2022-10-14T15:51:44.612412Z",
     "shell.execute_reply": "2022-10-14T15:51:44.611232Z",
     "shell.execute_reply.started": "2022-10-14T15:51:44.596132Z"
    },
    "papermill": {
     "duration": null,
     "end_time": null,
     "exception": null,
     "start_time": null,
     "status": "pending"
    },
    "tags": []
   },
   "outputs": [],
   "source": [
    "#fitting the NaiveBayes \n",
    "gnb = GaussianNB()\n",
    "gnb.fit(x_train, y_train)"
   ]
  },
  {
   "cell_type": "code",
   "execution_count": null,
   "id": "ea1e71d1",
   "metadata": {
    "execution": {
     "iopub.execute_input": "2022-10-14T15:51:44.613671Z",
     "iopub.status.busy": "2022-10-14T15:51:44.613404Z",
     "iopub.status.idle": "2022-10-14T15:51:44.623454Z",
     "shell.execute_reply": "2022-10-14T15:51:44.622591Z",
     "shell.execute_reply.started": "2022-10-14T15:51:44.613645Z"
    },
    "papermill": {
     "duration": null,
     "end_time": null,
     "exception": null,
     "start_time": null,
     "status": "pending"
    },
    "tags": []
   },
   "outputs": [],
   "source": [
    "#predicting with the Gaussain regression\n",
    "y_pred_gb = gnb.predict(x_test)\n",
    "y_pred_gb"
   ]
  },
  {
   "cell_type": "code",
   "execution_count": null,
   "id": "583ee4f6",
   "metadata": {
    "execution": {
     "iopub.execute_input": "2022-10-14T15:51:44.624805Z",
     "iopub.status.busy": "2022-10-14T15:51:44.624553Z",
     "iopub.status.idle": "2022-10-14T15:51:44.774623Z",
     "shell.execute_reply": "2022-10-14T15:51:44.773618Z",
     "shell.execute_reply.started": "2022-10-14T15:51:44.624781Z"
    },
    "papermill": {
     "duration": null,
     "end_time": null,
     "exception": null,
     "start_time": null,
     "status": "pending"
    },
    "tags": []
   },
   "outputs": [],
   "source": [
    "#visualize the result without regression line\n",
    "plt.scatter(y_test, y_pred_gb)\n",
    "plt.title(\"Gaussain Regression result\", size = 20)\n",
    "plt.xlabel(\"Actual\")\n",
    "plt.ylabel(\"Predicted\")\n",
    "plt.show()"
   ]
  },
  {
   "cell_type": "code",
   "execution_count": null,
   "id": "537f65ca",
   "metadata": {
    "execution": {
     "iopub.execute_input": "2022-10-14T15:51:44.777242Z",
     "iopub.status.busy": "2022-10-14T15:51:44.776872Z",
     "iopub.status.idle": "2022-10-14T15:51:44.934725Z",
     "shell.execute_reply": "2022-10-14T15:51:44.933605Z",
     "shell.execute_reply.started": "2022-10-14T15:51:44.777210Z"
    },
    "papermill": {
     "duration": null,
     "end_time": null,
     "exception": null,
     "start_time": null,
     "status": "pending"
    },
    "tags": []
   },
   "outputs": [],
   "source": [
    "#Now visualize the result with regression line\n",
    "sns.regplot(x= y_test, y= y_pred_gb, ci = None , color = \"black\")\n",
    "plt.title(\"Gaussain Regression result\", size = 20)\n",
    "plt.xlabel(\"Actual\")\n",
    "plt.ylabel(\"Predicted\")\n",
    "plt.show()"
   ]
  },
  {
   "cell_type": "code",
   "execution_count": null,
   "id": "08d95bd6",
   "metadata": {
    "execution": {
     "iopub.execute_input": "2022-10-14T15:51:44.936605Z",
     "iopub.status.busy": "2022-10-14T15:51:44.936059Z",
     "iopub.status.idle": "2022-10-14T15:51:44.948103Z",
     "shell.execute_reply": "2022-10-14T15:51:44.947455Z",
     "shell.execute_reply.started": "2022-10-14T15:51:44.936575Z"
    },
    "papermill": {
     "duration": null,
     "end_time": null,
     "exception": null,
     "start_time": null,
     "status": "pending"
    },
    "tags": []
   },
   "outputs": [],
   "source": [
    "#evaluate the model \n",
    "r2 = (r2_score(y_test, y_pred_gb))\n",
    "rmse =(np.sqrt(mean_squared_error(y_test, y_pred_gb)))\n",
    "gb_reg = pd.DataFrame([\"Gaussain Regression\", r2, rmse]).transpose()\n",
    "gb_reg.columns = [\"regression_model\", \"R2_score\", \"Root_Mean_Squared_error\"]\n",
    "gb_reg"
   ]
  },
  {
   "cell_type": "markdown",
   "id": "f304f98a",
   "metadata": {
    "papermill": {
     "duration": null,
     "end_time": null,
     "exception": null,
     "start_time": null,
     "status": "pending"
    },
    "tags": []
   },
   "source": [
    "# **SVM Model**"
   ]
  },
  {
   "cell_type": "code",
   "execution_count": null,
   "id": "8665bb51",
   "metadata": {
    "execution": {
     "iopub.execute_input": "2022-10-14T15:51:44.950128Z",
     "iopub.status.busy": "2022-10-14T15:51:44.949306Z",
     "iopub.status.idle": "2022-10-14T15:51:44.972309Z",
     "shell.execute_reply": "2022-10-14T15:51:44.971574Z",
     "shell.execute_reply.started": "2022-10-14T15:51:44.950100Z"
    },
    "papermill": {
     "duration": null,
     "end_time": null,
     "exception": null,
     "start_time": null,
     "status": "pending"
    },
    "tags": []
   },
   "outputs": [],
   "source": [
    "#fitting the svm model\n",
    "svc = SVC(kernel = 'linear')\n",
    "svc.fit(x_train, y_train)"
   ]
  },
  {
   "cell_type": "code",
   "execution_count": null,
   "id": "435cba99",
   "metadata": {
    "execution": {
     "iopub.execute_input": "2022-10-14T15:51:44.974202Z",
     "iopub.status.busy": "2022-10-14T15:51:44.973299Z",
     "iopub.status.idle": "2022-10-14T15:51:44.980559Z",
     "shell.execute_reply": "2022-10-14T15:51:44.979884Z",
     "shell.execute_reply.started": "2022-10-14T15:51:44.974172Z"
    },
    "papermill": {
     "duration": null,
     "end_time": null,
     "exception": null,
     "start_time": null,
     "status": "pending"
    },
    "tags": []
   },
   "outputs": [],
   "source": [
    "#predict with svm\n",
    "y_pred_svm = svc.predict(x_test)\n",
    "y_pred_svm"
   ]
  },
  {
   "cell_type": "code",
   "execution_count": null,
   "id": "f5831249",
   "metadata": {
    "execution": {
     "iopub.execute_input": "2022-10-14T15:51:44.982303Z",
     "iopub.status.busy": "2022-10-14T15:51:44.981528Z",
     "iopub.status.idle": "2022-10-14T15:51:45.127863Z",
     "shell.execute_reply": "2022-10-14T15:51:45.126912Z",
     "shell.execute_reply.started": "2022-10-14T15:51:44.982275Z"
    },
    "papermill": {
     "duration": null,
     "end_time": null,
     "exception": null,
     "start_time": null,
     "status": "pending"
    },
    "tags": []
   },
   "outputs": [],
   "source": [
    "#visualize the result without regression line first\n",
    "plt.scatter(y_test, y_pred_svm)\n",
    "plt.title(\"SVM result\", size = 20)\n",
    "plt.xlabel(\"Actual\")\n",
    "plt.ylabel(\"Predicted\")\n",
    "plt.show()"
   ]
  },
  {
   "cell_type": "code",
   "execution_count": null,
   "id": "e941f4e8",
   "metadata": {
    "execution": {
     "iopub.execute_input": "2022-10-14T15:51:45.129717Z",
     "iopub.status.busy": "2022-10-14T15:51:45.129382Z",
     "iopub.status.idle": "2022-10-14T15:51:45.278037Z",
     "shell.execute_reply": "2022-10-14T15:51:45.277042Z",
     "shell.execute_reply.started": "2022-10-14T15:51:45.129685Z"
    },
    "papermill": {
     "duration": null,
     "end_time": null,
     "exception": null,
     "start_time": null,
     "status": "pending"
    },
    "tags": []
   },
   "outputs": [],
   "source": [
    "#Now visualize the result with regressionn line\n",
    "sns.regplot(x= y_test, y= y_pred_svm, ci = None, color = \"Aqua\")\n",
    "plt.title(\"SVM result\", size = 20)\n",
    "plt.xlabel(\"Actual\")\n",
    "plt.ylabel(\"Predicted\")\n",
    "plt.show()"
   ]
  },
  {
   "cell_type": "code",
   "execution_count": null,
   "id": "b3d7220d",
   "metadata": {
    "execution": {
     "iopub.execute_input": "2022-10-14T15:51:45.279366Z",
     "iopub.status.busy": "2022-10-14T15:51:45.279115Z",
     "iopub.status.idle": "2022-10-14T15:51:45.292982Z",
     "shell.execute_reply": "2022-10-14T15:51:45.291595Z",
     "shell.execute_reply.started": "2022-10-14T15:51:45.279342Z"
    },
    "papermill": {
     "duration": null,
     "end_time": null,
     "exception": null,
     "start_time": null,
     "status": "pending"
    },
    "tags": []
   },
   "outputs": [],
   "source": [
    "#evaluate the model \n",
    "r2 =r2_score(y_test, y_pred_svm)\n",
    "rmse = (np.sqrt(mean_squared_error(y_test, y_pred_svm)))\n",
    "svm_reg = pd.DataFrame([\"SVM model\", r2, rmse]).transpose()\n",
    "svm_reg.columns = [\"regression_model\", \"R2_score\", \"Root_Mean_Squared_error\"]\n",
    "svm_reg"
   ]
  },
  {
   "cell_type": "markdown",
   "id": "1263fb38",
   "metadata": {
    "papermill": {
     "duration": null,
     "end_time": null,
     "exception": null,
     "start_time": null,
     "status": "pending"
    },
    "tags": []
   },
   "source": [
    "# **KNN Model**"
   ]
  },
  {
   "cell_type": "code",
   "execution_count": null,
   "id": "99e6f16e",
   "metadata": {
    "execution": {
     "iopub.execute_input": "2022-10-14T15:51:45.294529Z",
     "iopub.status.busy": "2022-10-14T15:51:45.294256Z",
     "iopub.status.idle": "2022-10-14T15:51:45.304742Z",
     "shell.execute_reply": "2022-10-14T15:51:45.303301Z",
     "shell.execute_reply.started": "2022-10-14T15:51:45.294505Z"
    },
    "papermill": {
     "duration": null,
     "end_time": null,
     "exception": null,
     "start_time": null,
     "status": "pending"
    },
    "tags": []
   },
   "outputs": [],
   "source": [
    "#fitting the knn model\n",
    "knn = neighbors.KNeighborsClassifier(n_neighbors=5)\n",
    "knn.fit(x_train, y_train)"
   ]
  },
  {
   "cell_type": "code",
   "execution_count": null,
   "id": "6e606185",
   "metadata": {
    "execution": {
     "iopub.execute_input": "2022-10-14T15:51:45.306613Z",
     "iopub.status.busy": "2022-10-14T15:51:45.306008Z",
     "iopub.status.idle": "2022-10-14T15:51:45.318541Z",
     "shell.execute_reply": "2022-10-14T15:51:45.317313Z",
     "shell.execute_reply.started": "2022-10-14T15:51:45.306587Z"
    },
    "papermill": {
     "duration": null,
     "end_time": null,
     "exception": null,
     "start_time": null,
     "status": "pending"
    },
    "tags": []
   },
   "outputs": [],
   "source": [
    " #predict with the knn\n",
    "y_pred_knn = knn.predict(x_test)\n",
    "y_pred_knn"
   ]
  },
  {
   "cell_type": "code",
   "execution_count": null,
   "id": "62704841",
   "metadata": {
    "execution": {
     "iopub.execute_input": "2022-10-14T15:51:45.320427Z",
     "iopub.status.busy": "2022-10-14T15:51:45.320024Z",
     "iopub.status.idle": "2022-10-14T15:51:45.458787Z",
     "shell.execute_reply": "2022-10-14T15:51:45.458019Z",
     "shell.execute_reply.started": "2022-10-14T15:51:45.320394Z"
    },
    "papermill": {
     "duration": null,
     "end_time": null,
     "exception": null,
     "start_time": null,
     "status": "pending"
    },
    "tags": []
   },
   "outputs": [],
   "source": [
    "#visualize the result without regression line first\n",
    "plt.scatter(y_test, y_pred_knn)\n",
    "plt.title(\"KNN  result\", size = 20)\n",
    "plt.xlabel(\"Actual\")\n",
    "plt.ylabel(\"Predicted\")\n",
    "plt.show()"
   ]
  },
  {
   "cell_type": "code",
   "execution_count": null,
   "id": "9d006676",
   "metadata": {
    "execution": {
     "iopub.execute_input": "2022-10-14T15:51:45.460443Z",
     "iopub.status.busy": "2022-10-14T15:51:45.460027Z",
     "iopub.status.idle": "2022-10-14T15:51:45.603687Z",
     "shell.execute_reply": "2022-10-14T15:51:45.602317Z",
     "shell.execute_reply.started": "2022-10-14T15:51:45.460415Z"
    },
    "papermill": {
     "duration": null,
     "end_time": null,
     "exception": null,
     "start_time": null,
     "status": "pending"
    },
    "tags": []
   },
   "outputs": [],
   "source": [
    "#Now visualize the result with regression line \n",
    "sns.regplot(x= y_test, y= y_pred_knn, ci = None , color = \"purple\")\n",
    "plt.title(\"KNN  result\", size = 20)\n",
    "plt.xlabel(\"Actual\")\n",
    "plt.ylabel(\"Predicted\")\n",
    "plt.show()"
   ]
  },
  {
   "cell_type": "code",
   "execution_count": null,
   "id": "d8d449f6",
   "metadata": {
    "execution": {
     "iopub.execute_input": "2022-10-14T15:51:45.605207Z",
     "iopub.status.busy": "2022-10-14T15:51:45.604885Z",
     "iopub.status.idle": "2022-10-14T15:51:45.617628Z",
     "shell.execute_reply": "2022-10-14T15:51:45.616774Z",
     "shell.execute_reply.started": "2022-10-14T15:51:45.605177Z"
    },
    "papermill": {
     "duration": null,
     "end_time": null,
     "exception": null,
     "start_time": null,
     "status": "pending"
    },
    "tags": []
   },
   "outputs": [],
   "source": [
    "#evaluate the model \n",
    "r2 = r2_score(y_test, y_pred_knn)\n",
    "rmse = (np.sqrt(mean_squared_error(y_test, y_pred_knn)))\n",
    "knn_reg = pd.DataFrame([\"KNN model\", r2, rmse]).transpose()\n",
    "knn_reg.columns = [\"regression_model\", \"R2_score\", \"Root_Mean_Squared_error\"]\n",
    "knn_reg"
   ]
  },
  {
   "cell_type": "markdown",
   "id": "496c46e8",
   "metadata": {
    "papermill": {
     "duration": null,
     "end_time": null,
     "exception": null,
     "start_time": null,
     "status": "pending"
    },
    "tags": []
   },
   "source": [
    "# ** Comparing each model's performance**"
   ]
  },
  {
   "cell_type": "code",
   "execution_count": null,
   "id": "887d24fa",
   "metadata": {
    "execution": {
     "iopub.execute_input": "2022-10-14T15:51:45.625439Z",
     "iopub.status.busy": "2022-10-14T15:51:45.625110Z",
     "iopub.status.idle": "2022-10-14T15:51:45.638032Z",
     "shell.execute_reply": "2022-10-14T15:51:45.637181Z",
     "shell.execute_reply.started": "2022-10-14T15:51:45.625408Z"
    },
    "papermill": {
     "duration": null,
     "end_time": null,
     "exception": null,
     "start_time": null,
     "status": "pending"
    },
    "tags": []
   },
   "outputs": [],
   "source": [
    "#finally, Lets compare all model' performances(with evaluated score with two popular and common metrics)\n",
    "comparision_table = pd.concat([poly_reg, lr_reg, las_reg, ridge_reg, dtr_reg, rand_reg, elas_reg, svm_reg, knn_reg, gb_reg, log_reg], axis = 0)\n",
    "comparision_table.reset_index(drop = True)"
   ]
  },
  {
   "cell_type": "markdown",
   "id": "ad4bc8a3",
   "metadata": {
    "papermill": {
     "duration": null,
     "end_time": null,
     "exception": null,
     "start_time": null,
     "status": "pending"
    },
    "tags": []
   },
   "source": [
    "As we know that, In R2score : higher(upto 1.0) the value, higher perfomance! In RMSE : lower the value, higher the perfomance!\n",
    "\n",
    "Hence In conclusion, From the above table, We can clearly see that Linear Regression model performs the most excellent job in both evaluation metrics(i.e r2_score = 0.75 and RMSE= 3.85) comparing to the other regression model, Whereas polynomial Regression model performs the worst according to the R2 score(-10.97) and also not good according to the RMSE(26.72). And then Gaussain/naive baiyes regression model performs second worst perfomance according to RMSE(38.21) and also not good in R2_score(-0.18). Hence we can say that Polynomial and Gaussain model doesn't fit to our data. while other regression models are seems to be fitted well resulting lower and higer score randomly.\n",
    "\n",
    "Thank you!!"
   ]
  },
  {
   "cell_type": "code",
   "execution_count": null,
   "id": "477b486b",
   "metadata": {
    "papermill": {
     "duration": null,
     "end_time": null,
     "exception": null,
     "start_time": null,
     "status": "pending"
    },
    "tags": []
   },
   "outputs": [],
   "source": []
  }
 ],
 "metadata": {
  "kernelspec": {
   "display_name": "Python 3 (ipykernel)",
   "language": "python",
   "name": "python3"
  },
  "language_info": {
   "codemirror_mode": {
    "name": "ipython",
    "version": 3
   },
   "file_extension": ".py",
   "mimetype": "text/x-python",
   "name": "python",
   "nbconvert_exporter": "python",
   "pygments_lexer": "ipython3",
   "version": "3.8.13"
  },
  "papermill": {
   "default_parameters": {},
   "duration": 19.157945,
   "end_time": "2022-10-14T15:55:13.412623",
   "environment_variables": {},
   "exception": true,
   "input_path": "__notebook__.ipynb",
   "output_path": "__notebook__.ipynb",
   "parameters": {},
   "start_time": "2022-10-14T15:54:54.254678",
   "version": "2.3.4"
  }
 },
 "nbformat": 4,
 "nbformat_minor": 5
}
